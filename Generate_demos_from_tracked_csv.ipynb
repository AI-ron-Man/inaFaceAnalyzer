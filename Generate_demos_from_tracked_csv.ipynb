{
 "cells": [
  {
   "cell_type": "code",
   "execution_count": 1,
   "metadata": {},
   "outputs": [],
   "source": [
    "import pandas as pd\n",
    "from IPython.core.display import display, HTML\n",
    "from inaFaceGender import incrust_faces_in_video"
   ]
  },
  {
   "cell_type": "code",
   "execution_count": 2,
   "metadata": {},
   "outputs": [],
   "source": [
    "def display_vid(fname):\n",
    "    data = '<div align=\"middle\"> <video width=\"80%%\" controls> <source src=%s> </video></div>' % fname\n",
    "    display(HTML(data))"
   ]
  },
  {
   "cell_type": "code",
   "execution_count": 3,
   "metadata": {},
   "outputs": [],
   "source": [
    "input_csv = './media/pexels-artem-podrez-5725953-notracking.csv'\n",
    "input_video = './media/pexels-artem-podrez-5725953.mp4'\n",
    "output_video = './media/pexels-artem-podrez-5725953-out.mp4'"
   ]
  },
  {
   "cell_type": "code",
   "execution_count": 4,
   "metadata": {},
   "outputs": [
    {
     "data": {
      "text/html": [
       "<div align=\"middle\"> <video width=\"80%\" controls> <source src=./media/pexels-artem-podrez-5725953.mp4> </video></div>"
      ],
      "text/plain": [
       "<IPython.core.display.HTML object>"
      ]
     },
     "metadata": {},
     "output_type": "display_data"
    }
   ],
   "source": [
    "display_vid(input_video)"
   ]
  },
  {
   "cell_type": "code",
   "execution_count": 5,
   "metadata": {},
   "outputs": [
    {
     "data": {
      "text/html": [
       "<div>\n",
       "<style scoped>\n",
       "    .dataframe tbody tr th:only-of-type {\n",
       "        vertical-align: middle;\n",
       "    }\n",
       "\n",
       "    .dataframe tbody tr th {\n",
       "        vertical-align: top;\n",
       "    }\n",
       "\n",
       "    .dataframe thead th {\n",
       "        text-align: right;\n",
       "    }\n",
       "</style>\n",
       "<table border=\"1\" class=\"dataframe\">\n",
       "  <thead>\n",
       "    <tr style=\"text-align: right;\">\n",
       "      <th></th>\n",
       "      <th>frame</th>\n",
       "      <th>bb</th>\n",
       "      <th>label</th>\n",
       "      <th>decision</th>\n",
       "      <th>conf</th>\n",
       "    </tr>\n",
       "  </thead>\n",
       "  <tbody>\n",
       "    <tr>\n",
       "      <th>0</th>\n",
       "      <td>0.0</td>\n",
       "      <td>(61, 100, 272, 311)</td>\n",
       "      <td>f</td>\n",
       "      <td>-9.028</td>\n",
       "      <td>0.998</td>\n",
       "    </tr>\n",
       "    <tr>\n",
       "      <th>1</th>\n",
       "      <td>0.0</td>\n",
       "      <td>(950, 0, 1129, 171)</td>\n",
       "      <td>m</td>\n",
       "      <td>12.605</td>\n",
       "      <td>0.988</td>\n",
       "    </tr>\n",
       "    <tr>\n",
       "      <th>2</th>\n",
       "      <td>0.0</td>\n",
       "      <td>(744, 17, 931, 204)</td>\n",
       "      <td>f</td>\n",
       "      <td>-6.711</td>\n",
       "      <td>0.987</td>\n",
       "    </tr>\n",
       "    <tr>\n",
       "      <th>3</th>\n",
       "      <td>0.0</td>\n",
       "      <td>(556, 198, 732, 374)</td>\n",
       "      <td>m</td>\n",
       "      <td>18.179</td>\n",
       "      <td>0.934</td>\n",
       "    </tr>\n",
       "    <tr>\n",
       "      <th>4</th>\n",
       "      <td>0.0</td>\n",
       "      <td>(311, 160, 496, 345)</td>\n",
       "      <td>f</td>\n",
       "      <td>-13.245</td>\n",
       "      <td>0.809</td>\n",
       "    </tr>\n",
       "  </tbody>\n",
       "</table>\n",
       "</div>"
      ],
      "text/plain": [
       "   frame                    bb label  decision   conf\n",
       "0    0.0   (61, 100, 272, 311)     f    -9.028  0.998\n",
       "1    0.0   (950, 0, 1129, 171)     m    12.605  0.988\n",
       "2    0.0   (744, 17, 931, 204)     f    -6.711  0.987\n",
       "3    0.0  (556, 198, 732, 374)     m    18.179  0.934\n",
       "4    0.0  (311, 160, 496, 345)     f   -13.245  0.809"
      ]
     },
     "execution_count": 5,
     "metadata": {},
     "output_type": "execute_result"
    }
   ],
   "source": [
    "df = pd.read_csv(input_csv)\n",
    "df.head()"
   ]
  },
  {
   "cell_type": "code",
   "execution_count": 6,
   "metadata": {},
   "outputs": [
    {
     "name": "stderr",
     "output_type": "stream",
     "text": [
      "ffmpeg version 4.2.4-1ubuntu0.1 Copyright (c) 2000-2020 the FFmpeg developers\n",
      "  built with gcc 9 (Ubuntu 9.3.0-10ubuntu2)\n",
      "  configuration: --prefix=/usr --extra-version=1ubuntu0.1 --toolchain=hardened --libdir=/usr/lib/x86_64-linux-gnu --incdir=/usr/include/x86_64-linux-gnu --arch=amd64 --enable-gpl --disable-stripping --enable-avresample --disable-filter=resample --enable-avisynth --enable-gnutls --enable-ladspa --enable-libaom --enable-libass --enable-libbluray --enable-libbs2b --enable-libcaca --enable-libcdio --enable-libcodec2 --enable-libflite --enable-libfontconfig --enable-libfreetype --enable-libfribidi --enable-libgme --enable-libgsm --enable-libjack --enable-libmp3lame --enable-libmysofa --enable-libopenjpeg --enable-libopenmpt --enable-libopus --enable-libpulse --enable-librsvg --enable-librubberband --enable-libshine --enable-libsnappy --enable-libsoxr --enable-libspeex --enable-libssh --enable-libtheora --enable-libtwolame --enable-libvidstab --enable-libvorbis --enable-libvpx --enable-libwavpack --enable-libwebp --enable-libx265 --enable-libxml2 --enable-libxvid --enable-libzmq --enable-libzvbi --enable-lv2 --enable-omx --enable-openal --enable-opencl --enable-opengl --enable-sdl2 --enable-libdc1394 --enable-libdrm --enable-libiec61883 --enable-nvenc --enable-chromaprint --enable-frei0r --enable-libx264 --enable-shared\n",
      "  libavutil      56. 31.100 / 56. 31.100\n",
      "  libavcodec     58. 54.100 / 58. 54.100\n",
      "  libavformat    58. 29.100 / 58. 29.100\n",
      "  libavdevice    58.  8.100 / 58.  8.100\n",
      "  libavfilter     7. 57.100 /  7. 57.100\n",
      "  libavresample   4.  0.  0 /  4.  0.  0\n",
      "  libswscale      5.  5.100 /  5.  5.100\n",
      "  libswresample   3.  5.100 /  3.  5.100\n",
      "  libpostproc    55.  5.100 / 55.  5.100\n",
      "Input #0, mov,mp4,m4a,3gp,3g2,mj2, from '/tmp/tmp_1higxpd/pexels-artem-podrez-5725953.mp4':\n",
      "  Metadata:\n",
      "    major_brand     : isom\n",
      "    minor_version   : 512\n",
      "    compatible_brands: isomiso2mp41\n",
      "    encoder         : Lavf58.61.100\n",
      "  Duration: 00:00:11.93, start: 0.000000, bitrate: 9319 kb/s\n",
      "    Stream #0:0(und): Video: mpeg4 (Simple Profile) (mp4v / 0x7634706D), yuv420p, 1280x720 [SAR 1:1 DAR 16:9], 9318 kb/s, 30 fps, 30 tbr, 15360 tbn, 30 tbc (default)\n",
      "    Metadata:\n",
      "      handler_name    : VideoHandler\n",
      "Input #1, mov,mp4,m4a,3gp,3g2,mj2, from './media/pexels-artem-podrez-5725953.mp4':\n",
      "  Metadata:\n",
      "    major_brand     : mp42\n",
      "    minor_version   : 0\n",
      "    compatible_brands: mp42mp41isomavc1\n",
      "    creation_time   : 2020-10-28T20:16:58.000000Z\n",
      "  Duration: 00:00:11.93, start: 0.000000, bitrate: 2814 kb/s\n",
      "    Stream #1:0(und): Video: h264 (High) (avc1 / 0x31637661), yuv420p(tv, bt709), 1280x720, 2810 kb/s, 30 fps, 30 tbr, 30 tbn, 60 tbc (default)\n",
      "    Metadata:\n",
      "      creation_time   : 2020-10-28T20:16:58.000000Z\n",
      "      handler_name    : L-SMASH Video Handler\n",
      "      encoder         : AVC Coding\n",
      "Stream mapping:\n",
      "  Stream #0:0 -> #0:0 (mpeg4 (native) -> h264 (libx264))\n",
      "Press [q] to stop, [?] for help\n",
      "[libx264 @ 0x564380ed3a00] using SAR=1/1\n",
      "[libx264 @ 0x564380ed3a00] using cpu capabilities: MMX2 SSE2Fast SSSE3 SSE4.2 AVX FMA3 BMI2 AVX2\n",
      "[libx264 @ 0x564380ed3a00] profile High, level 3.1\n",
      "[libx264 @ 0x564380ed3a00] 264 - core 155 r2917 0a84d98 - H.264/MPEG-4 AVC codec - Copyleft 2003-2018 - http://www.videolan.org/x264.html - options: cabac=1 ref=3 deblock=1:0:0 analyse=0x3:0x113 me=hex subme=7 psy=1 psy_rd=1.00:0.00 mixed_ref=1 me_range=16 chroma_me=1 trellis=1 8x8dct=1 cqm=0 deadzone=21,11 fast_pskip=1 chroma_qp_offset=-2 threads=22 lookahead_threads=3 sliced_threads=0 nr=0 decimate=1 interlaced=0 bluray_compat=0 constrained_intra=0 bframes=3 b_pyramid=2 b_adapt=1 b_bias=0 direct=1 weightb=1 open_gop=0 weightp=2 keyint=250 keyint_min=25 scenecut=40 intra_refresh=0 rc_lookahead=40 rc=crf mbtree=1 crf=23.0 qcomp=0.60 qpmin=0 qpmax=69 qpstep=4 ip_ratio=1.40 aq=1:1.00\n",
      "Output #0, mp4, to './media/pexels-artem-podrez-5725953-out.mp4':\n",
      "  Metadata:\n",
      "    major_brand     : isom\n",
      "    minor_version   : 512\n",
      "    compatible_brands: isomiso2mp41\n",
      "    encoder         : Lavf58.29.100\n",
      "    Stream #0:0(und): Video: h264 (libx264) (avc1 / 0x31637661), yuv420p, 1280x720 [SAR 1:1 DAR 16:9], q=-1--1, 30 fps, 15360 tbn, 30 tbc (default)\n",
      "    Metadata:\n",
      "      handler_name    : VideoHandler\n",
      "      encoder         : Lavc58.54.100 libx264\n",
      "    Side data:\n",
      "      cpb: bitrate max/min/avg: 0/0/0 buffer size: 0 vbv_delay: -1\n",
      "frame=  358 fps= 46 q=-1.0 Lsize=    4479kB time=00:00:11.83 bitrate=3100.7kbits/s speed=1.53x    \n",
      "video:4475kB audio:0kB subtitle:0kB other streams:0kB global headers:0kB muxing overhead: 0.095173%\n",
      "[libx264 @ 0x564380ed3a00] frame I:2     Avg QP:21.36  size: 58302\n",
      "[libx264 @ 0x564380ed3a00] frame P:195   Avg QP:24.81  size: 17193\n",
      "[libx264 @ 0x564380ed3a00] frame B:161   Avg QP:27.91  size:  6908\n",
      "[libx264 @ 0x564380ed3a00] consecutive B-frames: 35.5%  8.4% 15.9% 40.2%\n",
      "[libx264 @ 0x564380ed3a00] mb I  I16..4: 16.2% 72.5% 11.3%\n",
      "[libx264 @ 0x564380ed3a00] mb P  I16..4:  2.2% 11.6%  1.2%  P16..4: 44.0% 13.6%  5.3%  0.0%  0.0%    skip:22.1%\n",
      "[libx264 @ 0x564380ed3a00] mb B  I16..4:  0.6%  2.8%  0.2%  B16..8: 42.6%  5.5%  0.9%  direct: 2.2%  skip:45.2%  L0:49.2% L1:43.8% BI: 7.0%\n",
      "[libx264 @ 0x564380ed3a00] 8x8 transform intra:77.1% inter:81.7%\n",
      "[libx264 @ 0x564380ed3a00] coded y,uvDC,uvAC intra: 56.9% 53.8% 13.3% inter: 15.9% 14.2% 3.1%\n",
      "[libx264 @ 0x564380ed3a00] i16 v,h,dc,p: 39% 24% 16% 22%\n",
      "[libx264 @ 0x564380ed3a00] i8 v,h,dc,ddl,ddr,vr,hd,vl,hu: 19% 19% 30%  5%  4%  5%  5%  6%  6%\n",
      "[libx264 @ 0x564380ed3a00] i4 v,h,dc,ddl,ddr,vr,hd,vl,hu: 30% 25% 13%  4%  6%  7%  6%  5%  4%\n",
      "[libx264 @ 0x564380ed3a00] i8c dc,h,v,p: 51% 23% 22%  4%\n",
      "[libx264 @ 0x564380ed3a00] Weighted P-Frames: Y:0.0% UV:0.0%\n",
      "[libx264 @ 0x564380ed3a00] ref P L0: 67.8% 16.6% 11.3%  4.3%\n",
      "[libx264 @ 0x564380ed3a00] ref B L0: 90.4%  7.9%  1.7%\n",
      "[libx264 @ 0x564380ed3a00] ref B L1: 97.5%  2.5%\n",
      "[libx264 @ 0x564380ed3a00] kb/s:3071.40\n"
     ]
    }
   ],
   "source": [
    "incrust_faces_in_video(input_video, input_csv, output_video)"
   ]
  },
  {
   "cell_type": "code",
   "execution_count": 7,
   "metadata": {
    "scrolled": true
   },
   "outputs": [
    {
     "data": {
      "text/html": [
       "<div align=\"middle\"> <video width=\"80%\" controls> <source src=./media/pexels-artem-podrez-5725953-out.mp4> </video></div>"
      ],
      "text/plain": [
       "<IPython.core.display.HTML object>"
      ]
     },
     "metadata": {},
     "output_type": "display_data"
    }
   ],
   "source": [
    "display_vid(output_video)"
   ]
  },
  {
   "cell_type": "code",
   "execution_count": 8,
   "metadata": {},
   "outputs": [
    {
     "name": "stderr",
     "output_type": "stream",
     "text": [
      "ffmpeg version 4.2.4-1ubuntu0.1 Copyright (c) 2000-2020 the FFmpeg developers\n",
      "  built with gcc 9 (Ubuntu 9.3.0-10ubuntu2)\n",
      "  configuration: --prefix=/usr --extra-version=1ubuntu0.1 --toolchain=hardened --libdir=/usr/lib/x86_64-linux-gnu --incdir=/usr/include/x86_64-linux-gnu --arch=amd64 --enable-gpl --disable-stripping --enable-avresample --disable-filter=resample --enable-avisynth --enable-gnutls --enable-ladspa --enable-libaom --enable-libass --enable-libbluray --enable-libbs2b --enable-libcaca --enable-libcdio --enable-libcodec2 --enable-libflite --enable-libfontconfig --enable-libfreetype --enable-libfribidi --enable-libgme --enable-libgsm --enable-libjack --enable-libmp3lame --enable-libmysofa --enable-libopenjpeg --enable-libopenmpt --enable-libopus --enable-libpulse --enable-librsvg --enable-librubberband --enable-libshine --enable-libsnappy --enable-libsoxr --enable-libspeex --enable-libssh --enable-libtheora --enable-libtwolame --enable-libvidstab --enable-libvorbis --enable-libvpx --enable-libwavpack --enable-libwebp --enable-libx265 --enable-libxml2 --enable-libxvid --enable-libzmq --enable-libzvbi --enable-lv2 --enable-omx --enable-openal --enable-opencl --enable-opengl --enable-sdl2 --enable-libdc1394 --enable-libdrm --enable-libiec61883 --enable-nvenc --enable-chromaprint --enable-frei0r --enable-libx264 --enable-shared\n",
      "  libavutil      56. 31.100 / 56. 31.100\n",
      "  libavcodec     58. 54.100 / 58. 54.100\n",
      "  libavformat    58. 29.100 / 58. 29.100\n",
      "  libavdevice    58.  8.100 / 58.  8.100\n",
      "  libavfilter     7. 57.100 /  7. 57.100\n",
      "  libavresample   4.  0.  0 /  4.  0.  0\n",
      "  libswscale      5.  5.100 /  5.  5.100\n",
      "  libswresample   3.  5.100 /  3.  5.100\n",
      "  libpostproc    55.  5.100 / 55.  5.100\n",
      "Input #0, mov,mp4,m4a,3gp,3g2,mj2, from '/tmp/tmp0vu0yhqw/pexels-artem-podrez-5725953.mp4':\n",
      "  Metadata:\n",
      "    major_brand     : isom\n",
      "    minor_version   : 512\n",
      "    compatible_brands: isomiso2mp41\n",
      "    encoder         : Lavf58.61.100\n",
      "  Duration: 00:00:11.93, start: 0.000000, bitrate: 9826 kb/s\n",
      "    Stream #0:0(und): Video: mpeg4 (Simple Profile) (mp4v / 0x7634706D), yuv420p, 1280x720 [SAR 1:1 DAR 16:9], 9825 kb/s, 30 fps, 30 tbr, 15360 tbn, 30 tbc (default)\n",
      "    Metadata:\n",
      "      handler_name    : VideoHandler\n",
      "Input #1, mov,mp4,m4a,3gp,3g2,mj2, from './media/pexels-artem-podrez-5725953.mp4':\n",
      "  Metadata:\n",
      "    major_brand     : mp42\n",
      "    minor_version   : 0\n",
      "    compatible_brands: mp42mp41isomavc1\n",
      "    creation_time   : 2020-10-28T20:16:58.000000Z\n",
      "  Duration: 00:00:11.93, start: 0.000000, bitrate: 2814 kb/s\n",
      "    Stream #1:0(und): Video: h264 (High) (avc1 / 0x31637661), yuv420p(tv, bt709), 1280x720, 2810 kb/s, 30 fps, 30 tbr, 30 tbn, 60 tbc (default)\n",
      "    Metadata:\n",
      "      creation_time   : 2020-10-28T20:16:58.000000Z\n",
      "      handler_name    : L-SMASH Video Handler\n",
      "      encoder         : AVC Coding\n",
      "Stream mapping:\n",
      "  Stream #0:0 -> #0:0 (mpeg4 (native) -> h264 (libx264))\n",
      "Press [q] to stop, [?] for help\n",
      "[libx264 @ 0x555fe7d24840] using SAR=1/1\n",
      "[libx264 @ 0x555fe7d24840] using cpu capabilities: MMX2 SSE2Fast SSSE3 SSE4.2 AVX FMA3 BMI2 AVX2\n",
      "[libx264 @ 0x555fe7d24840] profile High, level 3.1\n",
      "[libx264 @ 0x555fe7d24840] 264 - core 155 r2917 0a84d98 - H.264/MPEG-4 AVC codec - Copyleft 2003-2018 - http://www.videolan.org/x264.html - options: cabac=1 ref=3 deblock=1:0:0 analyse=0x3:0x113 me=hex subme=7 psy=1 psy_rd=1.00:0.00 mixed_ref=1 me_range=16 chroma_me=1 trellis=1 8x8dct=1 cqm=0 deadzone=21,11 fast_pskip=1 chroma_qp_offset=-2 threads=22 lookahead_threads=3 sliced_threads=0 nr=0 decimate=1 interlaced=0 bluray_compat=0 constrained_intra=0 bframes=3 b_pyramid=2 b_adapt=1 b_bias=0 direct=1 weightb=1 open_gop=0 weightp=2 keyint=250 keyint_min=25 scenecut=40 intra_refresh=0 rc_lookahead=40 rc=crf mbtree=1 crf=23.0 qcomp=0.60 qpmin=0 qpmax=69 qpstep=4 ip_ratio=1.40 aq=1:1.00\n",
      "Output #0, mp4, to './media/pexels-artem-podrez-5725953-tracking.mp4':\n",
      "  Metadata:\n",
      "    major_brand     : isom\n",
      "    minor_version   : 512\n",
      "    compatible_brands: isomiso2mp41\n",
      "    encoder         : Lavf58.29.100\n",
      "    Stream #0:0(und): Video: h264 (libx264) (avc1 / 0x31637661), yuv420p, 1280x720 [SAR 1:1 DAR 16:9], q=-1--1, 30 fps, 15360 tbn, 30 tbc (default)\n",
      "    Metadata:\n",
      "      handler_name    : VideoHandler\n",
      "      encoder         : Lavc58.54.100 libx264\n",
      "    Side data:\n",
      "      cpb: bitrate max/min/avg: 0/0/0 buffer size: 0 vbv_delay: -1\n",
      "frame=  358 fps=114 q=-1.0 Lsize=    4489kB time=00:00:11.83 bitrate=3107.4kbits/s speed=3.78x    \n",
      "video:4484kB audio:0kB subtitle:0kB other streams:0kB global headers:0kB muxing overhead: 0.099677%\n",
      "[libx264 @ 0x555fe7d24840] frame I:2     Avg QP:21.45  size: 57614\n",
      "[libx264 @ 0x555fe7d24840] frame P:171   Avg QP:24.70  size: 18281\n",
      "[libx264 @ 0x555fe7d24840] frame B:185   Avg QP:28.06  size:  7296\n",
      "[libx264 @ 0x555fe7d24840] consecutive B-frames: 26.5%  7.8% 17.6% 48.0%\n",
      "[libx264 @ 0x555fe7d24840] mb I  I16..4: 16.3% 72.4% 11.3%\n",
      "[libx264 @ 0x555fe7d24840] mb P  I16..4:  2.5% 13.5%  1.3%  P16..4: 42.7% 14.0%  5.5%  0.0%  0.0%    skip:20.5%\n",
      "[libx264 @ 0x555fe7d24840] mb B  I16..4:  0.7%  2.7%  0.2%  B16..8: 42.7%  6.0%  1.0%  direct: 2.2%  skip:44.7%  L0:51.1% L1:41.8% BI: 7.1%\n",
      "[libx264 @ 0x555fe7d24840] 8x8 transform intra:77.1% inter:81.3%\n",
      "[libx264 @ 0x555fe7d24840] coded y,uvDC,uvAC intra: 57.8% 53.9% 13.1% inter: 15.4% 13.9% 3.2%\n",
      "[libx264 @ 0x555fe7d24840] i16 v,h,dc,p: 39% 24% 16% 22%\n",
      "[libx264 @ 0x555fe7d24840] i8 v,h,dc,ddl,ddr,vr,hd,vl,hu: 20% 19% 29%  5%  4%  5%  5%  6%  6%\n",
      "[libx264 @ 0x555fe7d24840] i4 v,h,dc,ddl,ddr,vr,hd,vl,hu: 32% 23% 13%  4%  6%  7%  6%  5%  4%\n",
      "[libx264 @ 0x555fe7d24840] i8c dc,h,v,p: 51% 23% 22%  4%\n",
      "[libx264 @ 0x555fe7d24840] Weighted P-Frames: Y:0.0% UV:0.0%\n",
      "[libx264 @ 0x555fe7d24840] ref P L0: 66.7% 16.7% 11.7%  4.9%\n",
      "[libx264 @ 0x555fe7d24840] ref B L0: 89.3%  8.7%  1.9%\n",
      "[libx264 @ 0x555fe7d24840] ref B L1: 97.2%  2.8%\n",
      "[libx264 @ 0x555fe7d24840] kb/s:3077.85\n"
     ]
    }
   ],
   "source": [
    "trackcsv = './media/pexels-artem-podrez-5725953-tracking.csv'\n",
    "trackout = './media/pexels-artem-podrez-5725953-tracking.mp4'\n",
    "incrust_faces_in_video(input_video, trackcsv, trackout, collabel='smoothed_label', coldecision='smoothed_decision')"
   ]
  },
  {
   "cell_type": "code",
   "execution_count": 9,
   "metadata": {},
   "outputs": [
    {
     "data": {
      "text/html": [
       "<div align=\"middle\"> <video width=\"80%\" controls> <source src=./media/pexels-artem-podrez-5725953-tracking.mp4> </video></div>"
      ],
      "text/plain": [
       "<IPython.core.display.HTML object>"
      ]
     },
     "metadata": {},
     "output_type": "display_data"
    }
   ],
   "source": [
    "display_vid(trackout)"
   ]
  },
  {
   "cell_type": "code",
   "execution_count": null,
   "metadata": {},
   "outputs": [],
   "source": []
  }
 ],
 "metadata": {
  "kernelspec": {
   "display_name": "Python 3 (ipykernel)",
   "language": "python",
   "name": "python3"
  },
  "language_info": {
   "codemirror_mode": {
    "name": "ipython",
    "version": 3
   },
   "file_extension": ".py",
   "mimetype": "text/x-python",
   "name": "python",
   "nbconvert_exporter": "python",
   "pygments_lexer": "ipython3",
   "version": "3.8.10"
  }
 },
 "nbformat": 4,
 "nbformat_minor": 2
}
