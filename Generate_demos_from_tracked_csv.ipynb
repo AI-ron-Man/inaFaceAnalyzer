{
 "cells": [
  {
   "cell_type": "code",
   "execution_count": 1,
   "metadata": {},
   "outputs": [],
   "source": [
    "import pandas as pd\n",
    "from IPython.core.display import display, HTML\n",
    "from inaFaceAnalyzer.display_utils import video_export"
   ]
  },
  {
   "cell_type": "code",
   "execution_count": 2,
   "metadata": {},
   "outputs": [],
   "source": [
    "def display_vid(fname):\n",
    "    data = '<div align=\"middle\"> <video width=\"80%%\" controls> <source src=%s> </video></div>' % fname\n",
    "    display(HTML(data))"
   ]
  },
  {
   "cell_type": "code",
   "execution_count": 3,
   "metadata": {},
   "outputs": [],
   "source": [
    "input_csv = './media/pexels-artem-podrez-5725953-notracking.csv'\n",
    "input_video = './media/pexels-artem-podrez-5725953.mp4'\n",
    "output_video = './media/pexels-artem-podrez-5725953-out.mp4'"
   ]
  },
  {
   "cell_type": "code",
   "execution_count": 4,
   "metadata": {},
   "outputs": [
    {
     "data": {
      "text/html": [
       "<div align=\"middle\"> <video width=\"80%\" controls> <source src=./media/pexels-artem-podrez-5725953.mp4> </video></div>"
      ],
      "text/plain": [
       "<IPython.core.display.HTML object>"
      ]
     },
     "metadata": {},
     "output_type": "display_data"
    }
   ],
   "source": [
    "display_vid(input_video)"
   ]
  },
  {
   "cell_type": "code",
   "execution_count": 5,
   "metadata": {},
   "outputs": [
    {
     "data": {
      "text/html": [
       "<div>\n",
       "<style scoped>\n",
       "    .dataframe tbody tr th:only-of-type {\n",
       "        vertical-align: middle;\n",
       "    }\n",
       "\n",
       "    .dataframe tbody tr th {\n",
       "        vertical-align: top;\n",
       "    }\n",
       "\n",
       "    .dataframe thead th {\n",
       "        text-align: right;\n",
       "    }\n",
       "</style>\n",
       "<table border=\"1\" class=\"dataframe\">\n",
       "  <thead>\n",
       "    <tr style=\"text-align: right;\">\n",
       "      <th></th>\n",
       "      <th>frame</th>\n",
       "      <th>bbox</th>\n",
       "      <th>detect_conf</th>\n",
       "      <th>sex_decfunc</th>\n",
       "      <th>sex_label</th>\n",
       "    </tr>\n",
       "  </thead>\n",
       "  <tbody>\n",
       "    <tr>\n",
       "      <th>0</th>\n",
       "      <td>0</td>\n",
       "      <td>(61, 100, 274, 313)</td>\n",
       "      <td>0.998</td>\n",
       "      <td>-9.418</td>\n",
       "      <td>f</td>\n",
       "    </tr>\n",
       "    <tr>\n",
       "      <th>1</th>\n",
       "      <td>0</td>\n",
       "      <td>(951, -6, 1130, 172)</td>\n",
       "      <td>0.988</td>\n",
       "      <td>11.824</td>\n",
       "      <td>m</td>\n",
       "    </tr>\n",
       "    <tr>\n",
       "      <th>2</th>\n",
       "      <td>0</td>\n",
       "      <td>(744, 17, 932, 206)</td>\n",
       "      <td>0.987</td>\n",
       "      <td>-6.632</td>\n",
       "      <td>f</td>\n",
       "    </tr>\n",
       "    <tr>\n",
       "      <th>3</th>\n",
       "      <td>0</td>\n",
       "      <td>(557, 198, 733, 374)</td>\n",
       "      <td>0.934</td>\n",
       "      <td>18.387</td>\n",
       "      <td>m</td>\n",
       "    </tr>\n",
       "    <tr>\n",
       "      <th>4</th>\n",
       "      <td>0</td>\n",
       "      <td>(312, 161, 497, 346)</td>\n",
       "      <td>0.809</td>\n",
       "      <td>-12.884</td>\n",
       "      <td>f</td>\n",
       "    </tr>\n",
       "  </tbody>\n",
       "</table>\n",
       "</div>"
      ],
      "text/plain": [
       "   frame                  bbox  detect_conf  sex_decfunc sex_label\n",
       "0      0   (61, 100, 274, 313)        0.998       -9.418         f\n",
       "1      0  (951, -6, 1130, 172)        0.988       11.824         m\n",
       "2      0   (744, 17, 932, 206)        0.987       -6.632         f\n",
       "3      0  (557, 198, 733, 374)        0.934       18.387         m\n",
       "4      0  (312, 161, 497, 346)        0.809      -12.884         f"
      ]
     },
     "execution_count": 5,
     "metadata": {},
     "output_type": "execute_result"
    }
   ],
   "source": [
    "df = pd.read_csv(input_csv)\n",
    "df.head()"
   ]
  },
  {
   "cell_type": "code",
   "execution_count": 6,
   "metadata": {},
   "outputs": [
    {
     "name": "stderr",
     "output_type": "stream",
     "text": [
      "ffmpeg version 4.2.4-1ubuntu0.1 Copyright (c) 2000-2020 the FFmpeg developers\n",
      "  built with gcc 9 (Ubuntu 9.3.0-10ubuntu2)\n",
      "  configuration: --prefix=/usr --extra-version=1ubuntu0.1 --toolchain=hardened --libdir=/usr/lib/x86_64-linux-gnu --incdir=/usr/include/x86_64-linux-gnu --arch=amd64 --enable-gpl --disable-stripping --enable-avresample --disable-filter=resample --enable-avisynth --enable-gnutls --enable-ladspa --enable-libaom --enable-libass --enable-libbluray --enable-libbs2b --enable-libcaca --enable-libcdio --enable-libcodec2 --enable-libflite --enable-libfontconfig --enable-libfreetype --enable-libfribidi --enable-libgme --enable-libgsm --enable-libjack --enable-libmp3lame --enable-libmysofa --enable-libopenjpeg --enable-libopenmpt --enable-libopus --enable-libpulse --enable-librsvg --enable-librubberband --enable-libshine --enable-libsnappy --enable-libsoxr --enable-libspeex --enable-libssh --enable-libtheora --enable-libtwolame --enable-libvidstab --enable-libvorbis --enable-libvpx --enable-libwavpack --enable-libwebp --enable-libx265 --enable-libxml2 --enable-libxvid --enable-libzmq --enable-libzvbi --enable-lv2 --enable-omx --enable-openal --enable-opencl --enable-opengl --enable-sdl2 --enable-libdc1394 --enable-libdrm --enable-libiec61883 --enable-nvenc --enable-chromaprint --enable-frei0r --enable-libx264 --enable-shared\n",
      "  libavutil      56. 31.100 / 56. 31.100\n",
      "  libavcodec     58. 54.100 / 58. 54.100\n",
      "  libavformat    58. 29.100 / 58. 29.100\n",
      "  libavdevice    58.  8.100 / 58.  8.100\n",
      "  libavfilter     7. 57.100 /  7. 57.100\n",
      "  libavresample   4.  0.  0 /  4.  0.  0\n",
      "  libswscale      5.  5.100 /  5.  5.100\n",
      "  libswresample   3.  5.100 /  3.  5.100\n",
      "  libpostproc    55.  5.100 / 55.  5.100\n",
      "Input #0, mov,mp4,m4a,3gp,3g2,mj2, from '/tmp/tmp6yp3sci4/pexels-artem-podrez-5725953.mp4':\n",
      "  Metadata:\n",
      "    major_brand     : isom\n",
      "    minor_version   : 512\n",
      "    compatible_brands: isomiso2mp41\n",
      "    encoder         : Lavf58.45.100\n",
      "  Duration: 00:00:11.93, start: 0.000000, bitrate: 8406 kb/s\n",
      "    Stream #0:0(und): Video: mpeg4 (Simple Profile) (mp4v / 0x7634706D), yuv420p, 1280x720 [SAR 1:1 DAR 16:9], 8405 kb/s, 30 fps, 30 tbr, 15360 tbn, 30 tbc (default)\n",
      "    Metadata:\n",
      "      handler_name    : VideoHandler\n",
      "Input #1, mov,mp4,m4a,3gp,3g2,mj2, from './media/pexels-artem-podrez-5725953.mp4':\n",
      "  Metadata:\n",
      "    major_brand     : mp42\n",
      "    minor_version   : 0\n",
      "    compatible_brands: mp42mp41isomavc1\n",
      "    creation_time   : 2020-10-28T20:16:58.000000Z\n",
      "  Duration: 00:00:11.93, start: 0.000000, bitrate: 2814 kb/s\n",
      "    Stream #1:0(und): Video: h264 (High) (avc1 / 0x31637661), yuv420p(tv, bt709), 1280x720, 2810 kb/s, 30 fps, 30 tbr, 30 tbn, 60 tbc (default)\n",
      "    Metadata:\n",
      "      creation_time   : 2020-10-28T20:16:58.000000Z\n",
      "      handler_name    : L-SMASH Video Handler\n",
      "      encoder         : AVC Coding\n",
      "Stream mapping:\n",
      "  Stream #0:0 -> #0:0 (mpeg4 (native) -> h264 (libx264))\n",
      "Press [q] to stop, [?] for help\n",
      "[libx264 @ 0x560e33954f40] using SAR=1/1\n",
      "[libx264 @ 0x560e33954f40] using cpu capabilities: MMX2 SSE2Fast SSSE3 SSE4.2 AVX FMA3 BMI2 AVX2\n",
      "[libx264 @ 0x560e33954f40] profile High, level 3.1\n",
      "[libx264 @ 0x560e33954f40] 264 - core 155 r2917 0a84d98 - H.264/MPEG-4 AVC codec - Copyleft 2003-2018 - http://www.videolan.org/x264.html - options: cabac=1 ref=3 deblock=1:0:0 analyse=0x3:0x113 me=hex subme=7 psy=1 psy_rd=1.00:0.00 mixed_ref=1 me_range=16 chroma_me=1 trellis=1 8x8dct=1 cqm=0 deadzone=21,11 fast_pskip=1 chroma_qp_offset=-2 threads=22 lookahead_threads=3 sliced_threads=0 nr=0 decimate=1 interlaced=0 bluray_compat=0 constrained_intra=0 bframes=3 b_pyramid=2 b_adapt=1 b_bias=0 direct=1 weightb=1 open_gop=0 weightp=2 keyint=250 keyint_min=25 scenecut=40 intra_refresh=0 rc_lookahead=40 rc=crf mbtree=1 crf=23.0 qcomp=0.60 qpmin=0 qpmax=69 qpstep=4 ip_ratio=1.40 aq=1:1.00\n",
      "Output #0, mp4, to './media/pexels-artem-podrez-5725953-out.mp4':\n",
      "  Metadata:\n",
      "    major_brand     : isom\n",
      "    minor_version   : 512\n",
      "    compatible_brands: isomiso2mp41\n",
      "    encoder         : Lavf58.29.100\n",
      "    Stream #0:0(und): Video: h264 (libx264) (avc1 / 0x31637661), yuv420p, 1280x720 [SAR 1:1 DAR 16:9], q=-1--1, 30 fps, 15360 tbn, 30 tbc (default)\n",
      "    Metadata:\n",
      "      handler_name    : VideoHandler\n",
      "      encoder         : Lavc58.54.100 libx264\n",
      "    Side data:\n",
      "      cpb: bitrate max/min/avg: 0/0/0 buffer size: 0 vbv_delay: -1\n",
      "frame=  358 fps=155 q=-1.0 Lsize=    4335kB time=00:00:11.83 bitrate=3001.1kbits/s speed=5.11x    \n",
      "video:4331kB audio:0kB subtitle:0kB other streams:0kB global headers:0kB muxing overhead: 0.086240%\n",
      "[libx264 @ 0x560e33954f40] frame I:2     Avg QP:21.54  size: 52414\n",
      "[libx264 @ 0x560e33954f40] frame P:247   Avg QP:24.85  size: 14813\n",
      "[libx264 @ 0x560e33954f40] frame B:109   Avg QP:27.90  size:  6155\n",
      "[libx264 @ 0x560e33954f40] consecutive B-frames: 54.7%  9.5% 13.4% 22.3%\n",
      "[libx264 @ 0x560e33954f40] mb I  I16..4: 16.8% 72.8% 10.4%\n",
      "[libx264 @ 0x560e33954f40] mb P  I16..4:  1.9% 10.4%  0.8%  P16..4: 44.3% 12.6%  4.8%  0.0%  0.0%    skip:25.2%\n",
      "[libx264 @ 0x560e33954f40] mb B  I16..4:  0.6%  2.5%  0.1%  B16..8: 42.5%  5.0%  0.7%  direct: 2.1%  skip:46.4%  L0:51.6% L1:41.8% BI: 6.5%\n",
      "[libx264 @ 0x560e33954f40] 8x8 transform intra:78.4% inter:82.1%\n",
      "[libx264 @ 0x560e33954f40] coded y,uvDC,uvAC intra: 56.3% 53.1% 11.7% inter: 16.8% 13.9% 2.1%\n",
      "[libx264 @ 0x560e33954f40] i16 v,h,dc,p: 37% 25% 16% 21%\n",
      "[libx264 @ 0x560e33954f40] i8 v,h,dc,ddl,ddr,vr,hd,vl,hu: 20% 19% 32%  4%  4%  5%  5%  6%  6%\n",
      "[libx264 @ 0x560e33954f40] i4 v,h,dc,ddl,ddr,vr,hd,vl,hu: 32% 25% 12%  4%  6%  7%  6%  5%  4%\n",
      "[libx264 @ 0x560e33954f40] i8c dc,h,v,p: 51% 23% 22%  4%\n",
      "[libx264 @ 0x560e33954f40] Weighted P-Frames: Y:0.0% UV:0.0%\n",
      "[libx264 @ 0x560e33954f40] ref P L0: 69.5% 16.5% 10.1%  3.8%\n",
      "[libx264 @ 0x560e33954f40] ref B L0: 89.2%  9.1%  1.7%\n",
      "[libx264 @ 0x560e33954f40] ref B L1: 97.6%  2.4%\n",
      "[libx264 @ 0x560e33954f40] kb/s:2972.93\n"
     ]
    }
   ],
   "source": [
    "video_export(input_video, input_csv, output_video)"
   ]
  },
  {
   "cell_type": "code",
   "execution_count": 7,
   "metadata": {
    "scrolled": true
   },
   "outputs": [
    {
     "data": {
      "text/html": [
       "<div align=\"middle\"> <video width=\"80%\" controls> <source src=./media/pexels-artem-podrez-5725953-out.mp4> </video></div>"
      ],
      "text/plain": [
       "<IPython.core.display.HTML object>"
      ]
     },
     "metadata": {},
     "output_type": "display_data"
    }
   ],
   "source": [
    "display_vid(output_video)"
   ]
  },
  {
   "cell_type": "code",
   "execution_count": 10,
   "metadata": {},
   "outputs": [
    {
     "name": "stderr",
     "output_type": "stream",
     "text": [
      "ffmpeg version 4.2.4-1ubuntu0.1 Copyright (c) 2000-2020 the FFmpeg developers\n",
      "  built with gcc 9 (Ubuntu 9.3.0-10ubuntu2)\n",
      "  configuration: --prefix=/usr --extra-version=1ubuntu0.1 --toolchain=hardened --libdir=/usr/lib/x86_64-linux-gnu --incdir=/usr/include/x86_64-linux-gnu --arch=amd64 --enable-gpl --disable-stripping --enable-avresample --disable-filter=resample --enable-avisynth --enable-gnutls --enable-ladspa --enable-libaom --enable-libass --enable-libbluray --enable-libbs2b --enable-libcaca --enable-libcdio --enable-libcodec2 --enable-libflite --enable-libfontconfig --enable-libfreetype --enable-libfribidi --enable-libgme --enable-libgsm --enable-libjack --enable-libmp3lame --enable-libmysofa --enable-libopenjpeg --enable-libopenmpt --enable-libopus --enable-libpulse --enable-librsvg --enable-librubberband --enable-libshine --enable-libsnappy --enable-libsoxr --enable-libspeex --enable-libssh --enable-libtheora --enable-libtwolame --enable-libvidstab --enable-libvorbis --enable-libvpx --enable-libwavpack --enable-libwebp --enable-libx265 --enable-libxml2 --enable-libxvid --enable-libzmq --enable-libzvbi --enable-lv2 --enable-omx --enable-openal --enable-opencl --enable-opengl --enable-sdl2 --enable-libdc1394 --enable-libdrm --enable-libiec61883 --enable-nvenc --enable-chromaprint --enable-frei0r --enable-libx264 --enable-shared\n",
      "  libavutil      56. 31.100 / 56. 31.100\n",
      "  libavcodec     58. 54.100 / 58. 54.100\n",
      "  libavformat    58. 29.100 / 58. 29.100\n",
      "  libavdevice    58.  8.100 / 58.  8.100\n",
      "  libavfilter     7. 57.100 /  7. 57.100\n",
      "  libavresample   4.  0.  0 /  4.  0.  0\n",
      "  libswscale      5.  5.100 /  5.  5.100\n",
      "  libswresample   3.  5.100 /  3.  5.100\n",
      "  libpostproc    55.  5.100 / 55.  5.100\n",
      "Input #0, mov,mp4,m4a,3gp,3g2,mj2, from '/tmp/tmpf0ba9kay/pexels-artem-podrez-5725953.mp4':\n",
      "  Metadata:\n",
      "    major_brand     : isom\n",
      "    minor_version   : 512\n",
      "    compatible_brands: isomiso2mp41\n",
      "    encoder         : Lavf58.45.100\n",
      "  Duration: 00:00:12.00, start: 0.000000, bitrate: 1634 kb/s\n",
      "    Stream #0:0(und): Video: mpeg4 (Simple Profile) (mp4v / 0x7634706D), yuv420p, 1280x720 [SAR 1:1 DAR 16:9], 1634 kb/s, 3 fps, 3 tbr, 12288 tbn, 3 tbc (default)\n",
      "    Metadata:\n",
      "      handler_name    : VideoHandler\n",
      "Input #1, mov,mp4,m4a,3gp,3g2,mj2, from './media/pexels-artem-podrez-5725953.mp4':\n",
      "  Metadata:\n",
      "    major_brand     : mp42\n",
      "    minor_version   : 0\n",
      "    compatible_brands: mp42mp41isomavc1\n",
      "    creation_time   : 2020-10-28T20:16:58.000000Z\n",
      "  Duration: 00:00:11.93, start: 0.000000, bitrate: 2814 kb/s\n",
      "    Stream #1:0(und): Video: h264 (High) (avc1 / 0x31637661), yuv420p(tv, bt709), 1280x720, 2810 kb/s, 30 fps, 30 tbr, 30 tbn, 60 tbc (default)\n",
      "    Metadata:\n",
      "      creation_time   : 2020-10-28T20:16:58.000000Z\n",
      "      handler_name    : L-SMASH Video Handler\n",
      "      encoder         : AVC Coding\n",
      "Stream mapping:\n",
      "  Stream #0:0 -> #0:0 (mpeg4 (native) -> h264 (libx264))\n",
      "Press [q] to stop, [?] for help\n",
      "[libx264 @ 0x55ee688004c0] using SAR=1/1\n",
      "[libx264 @ 0x55ee688004c0] using cpu capabilities: MMX2 SSE2Fast SSSE3 SSE4.2 AVX FMA3 BMI2 AVX2\n",
      "[libx264 @ 0x55ee688004c0] profile High, level 3.1\n",
      "[libx264 @ 0x55ee688004c0] 264 - core 155 r2917 0a84d98 - H.264/MPEG-4 AVC codec - Copyleft 2003-2018 - http://www.videolan.org/x264.html - options: cabac=1 ref=3 deblock=1:0:0 analyse=0x3:0x113 me=hex subme=7 psy=1 psy_rd=1.00:0.00 mixed_ref=1 me_range=16 chroma_me=1 trellis=1 8x8dct=1 cqm=0 deadzone=21,11 fast_pskip=1 chroma_qp_offset=-2 threads=22 lookahead_threads=3 sliced_threads=0 nr=0 decimate=1 interlaced=0 bluray_compat=0 constrained_intra=0 bframes=3 b_pyramid=2 b_adapt=1 b_bias=0 direct=1 weightb=1 open_gop=0 weightp=2 keyint=250 keyint_min=3 scenecut=40 intra_refresh=0 rc_lookahead=40 rc=crf mbtree=1 crf=23.0 qcomp=0.60 qpmin=0 qpmax=69 qpstep=4 ip_ratio=1.40 aq=1:1.00\n",
      "Output #0, mp4, to './media/pexels-artem-podrez-5725953-tracking.mp4':\n",
      "  Metadata:\n",
      "    major_brand     : isom\n",
      "    minor_version   : 512\n",
      "    compatible_brands: isomiso2mp41\n",
      "    encoder         : Lavf58.29.100\n",
      "    Stream #0:0(und): Video: h264 (libx264) (avc1 / 0x31637661), yuv420p, 1280x720 [SAR 1:1 DAR 16:9], q=-1--1, 3 fps, 12288 tbn, 3 tbc (default)\n",
      "    Metadata:\n",
      "      handler_name    : VideoHandler\n",
      "      encoder         : Lavc58.54.100 libx264\n",
      "    Side data:\n",
      "      cpb: bitrate max/min/avg: 0/0/0 buffer size: 0 vbv_delay: -1\n",
      "frame=   36 fps=0.0 q=-1.0 Lsize=    1710kB time=00:00:11.00 bitrate=1273.4kbits/s speed=20.2x    \n",
      "video:1709kB audio:0kB subtitle:0kB other streams:0kB global headers:0kB muxing overhead: 0.070241%\n",
      "[libx264 @ 0x55ee688004c0] frame I:1     Avg QP:15.84  size: 83725\n",
      "[libx264 @ 0x55ee688004c0] frame P:18    Avg QP:18.57  size: 54259\n",
      "[libx264 @ 0x55ee688004c0] frame B:17    Avg QP:19.76  size: 40507\n",
      "[libx264 @ 0x55ee688004c0] consecutive B-frames: 30.6% 11.1% 25.0% 33.3%\n",
      "[libx264 @ 0x55ee688004c0] mb I  I16..4: 23.3% 70.2%  6.5%\n",
      "[libx264 @ 0x55ee688004c0] mb P  I16..4:  5.6% 41.9%  4.9%  P16..4: 20.7% 14.3%  5.9%  0.0%  0.0%    skip: 6.7%\n",
      "[libx264 @ 0x55ee688004c0] mb B  I16..4:  2.1% 20.8%  2.6%  B16..8: 33.5% 18.4%  4.8%  direct: 6.5%  skip:11.3%  L0:54.8% L1:25.7% BI:19.5%\n",
      "[libx264 @ 0x55ee688004c0] 8x8 transform intra:79.8% inter:73.6%\n",
      "[libx264 @ 0x55ee688004c0] coded y,uvDC,uvAC intra: 77.4% 69.3% 30.2% inter: 47.8% 42.9% 10.1%\n",
      "[libx264 @ 0x55ee688004c0] i16 v,h,dc,p: 49% 21% 19% 11%\n",
      "[libx264 @ 0x55ee688004c0] i8 v,h,dc,ddl,ddr,vr,hd,vl,hu: 21% 20% 23%  5%  4%  6%  5%  8%  7%\n",
      "[libx264 @ 0x55ee688004c0] i4 v,h,dc,ddl,ddr,vr,hd,vl,hu: 28% 21% 11%  5%  7%  8%  7%  7%  5%\n",
      "[libx264 @ 0x55ee688004c0] i8c dc,h,v,p: 44% 25% 26%  5%\n",
      "[libx264 @ 0x55ee688004c0] Weighted P-Frames: Y:0.0% UV:0.0%\n",
      "[libx264 @ 0x55ee688004c0] ref P L0: 59.6% 17.9% 16.1%  6.4%\n",
      "[libx264 @ 0x55ee688004c0] ref B L0: 89.3%  9.1%  1.6%\n",
      "[libx264 @ 0x55ee688004c0] ref B L1: 97.1%  2.9%\n",
      "[libx264 @ 0x55ee688004c0] kb/s:1166.00\n"
     ]
    }
   ],
   "source": [
    "trackcsv = './media/pexels-artem-podrez-tracking5-subsamp10-Resnet50FFGRA.csv'\n",
    "trackout = './media/pexels-artem-podrez-5725953-tracking.mp4'\n",
    "video_export(input_video, trackcsv, trackout, analysis_fps=3)"
   ]
  },
  {
   "cell_type": "code",
   "execution_count": 9,
   "metadata": {},
   "outputs": [
    {
     "data": {
      "text/html": [
       "<div align=\"middle\"> <video width=\"80%\" controls> <source src=./media/pexels-artem-podrez-5725953-tracking.mp4> </video></div>"
      ],
      "text/plain": [
       "<IPython.core.display.HTML object>"
      ]
     },
     "metadata": {},
     "output_type": "display_data"
    }
   ],
   "source": [
    "display_vid(trackout)"
   ]
  },
  {
   "cell_type": "code",
   "execution_count": null,
   "metadata": {},
   "outputs": [],
   "source": []
  }
 ],
 "metadata": {
  "kernelspec": {
   "display_name": "Python 3 (ipykernel)",
   "language": "python",
   "name": "python3"
  },
  "language_info": {
   "codemirror_mode": {
    "name": "ipython",
    "version": 3
   },
   "file_extension": ".py",
   "mimetype": "text/x-python",
   "name": "python",
   "nbconvert_exporter": "python",
   "pygments_lexer": "ipython3",
   "version": "3.8.10"
  }
 },
 "nbformat": 4,
 "nbformat_minor": 2
}
