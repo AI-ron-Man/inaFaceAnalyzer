{
 "cells": [
  {
   "cell_type": "code",
   "execution_count": 2,
   "metadata": {},
   "outputs": [],
   "source": [
    "from inaFaceGender import GenderVideo, GenderTracking"
   ]
  },
  {
   "cell_type": "code",
   "execution_count": 3,
   "metadata": {},
   "outputs": [],
   "source": [
    "vidsrc = './media/pexels-artem-podrez-5725953.mp4'"
   ]
  },
  {
   "cell_type": "code",
   "execution_count": 4,
   "metadata": {},
   "outputs": [],
   "source": [
    "g = GenderVideo()"
   ]
  },
  {
   "cell_type": "code",
   "execution_count": 6,
   "metadata": {},
   "outputs": [
    {
     "name": "stdout",
     "output_type": "stream",
     "text": [
      "CPU times: user 1min 14s, sys: 29.1 s, total: 1min 43s\n",
      "Wall time: 22.9 s\n"
     ]
    }
   ],
   "source": [
    "# without tracking \n",
    "%time results = g(vidsrc)"
   ]
  },
  {
   "cell_type": "code",
   "execution_count": 7,
   "metadata": {},
   "outputs": [
    {
     "data": {
      "text/html": [
       "<div>\n",
       "<style scoped>\n",
       "    .dataframe tbody tr th:only-of-type {\n",
       "        vertical-align: middle;\n",
       "    }\n",
       "\n",
       "    .dataframe tbody tr th {\n",
       "        vertical-align: top;\n",
       "    }\n",
       "\n",
       "    .dataframe thead th {\n",
       "        text-align: right;\n",
       "    }\n",
       "</style>\n",
       "<table border=\"1\" class=\"dataframe\">\n",
       "  <thead>\n",
       "    <tr style=\"text-align: right;\">\n",
       "      <th></th>\n",
       "      <th>frame</th>\n",
       "      <th>bb</th>\n",
       "      <th>face_detect_conf</th>\n",
       "      <th>sex_label</th>\n",
       "      <th>sex_decision_function</th>\n",
       "    </tr>\n",
       "  </thead>\n",
       "  <tbody>\n",
       "    <tr>\n",
       "      <th>0</th>\n",
       "      <td>0</td>\n",
       "      <td>(61, 100, 274, 313)</td>\n",
       "      <td>0.997558</td>\n",
       "      <td>f</td>\n",
       "      <td>-9.417738</td>\n",
       "    </tr>\n",
       "    <tr>\n",
       "      <th>1</th>\n",
       "      <td>0</td>\n",
       "      <td>(951, -6, 1130, 172)</td>\n",
       "      <td>0.988243</td>\n",
       "      <td>m</td>\n",
       "      <td>11.823708</td>\n",
       "    </tr>\n",
       "    <tr>\n",
       "      <th>2</th>\n",
       "      <td>0</td>\n",
       "      <td>(744, 17, 932, 206)</td>\n",
       "      <td>0.987248</td>\n",
       "      <td>f</td>\n",
       "      <td>-6.632426</td>\n",
       "    </tr>\n",
       "    <tr>\n",
       "      <th>3</th>\n",
       "      <td>0</td>\n",
       "      <td>(557, 198, 733, 374)</td>\n",
       "      <td>0.933711</td>\n",
       "      <td>m</td>\n",
       "      <td>18.386524</td>\n",
       "    </tr>\n",
       "    <tr>\n",
       "      <th>4</th>\n",
       "      <td>0</td>\n",
       "      <td>(312, 161, 497, 346)</td>\n",
       "      <td>0.809412</td>\n",
       "      <td>f</td>\n",
       "      <td>-12.883549</td>\n",
       "    </tr>\n",
       "  </tbody>\n",
       "</table>\n",
       "</div>"
      ],
      "text/plain": [
       "   frame                    bb  face_detect_conf sex_label  \\\n",
       "0      0   (61, 100, 274, 313)          0.997558         f   \n",
       "1      0  (951, -6, 1130, 172)          0.988243         m   \n",
       "2      0   (744, 17, 932, 206)          0.987248         f   \n",
       "3      0  (557, 198, 733, 374)          0.933711         m   \n",
       "4      0  (312, 161, 497, 346)          0.809412         f   \n",
       "\n",
       "   sex_decision_function  \n",
       "0              -9.417738  \n",
       "1              11.823708  \n",
       "2              -6.632426  \n",
       "3              18.386524  \n",
       "4             -12.883549  "
      ]
     },
     "execution_count": 7,
     "metadata": {},
     "output_type": "execute_result"
    }
   ],
   "source": [
    "results.head()"
   ]
  },
  {
   "cell_type": "code",
   "execution_count": 8,
   "metadata": {},
   "outputs": [],
   "source": [
    "results.to_csv('./media/pexels-artem-podrez-5725953-notracking.csv', index=False, float_format='%.3f')"
   ]
  },
  {
   "cell_type": "code",
   "execution_count": 9,
   "metadata": {},
   "outputs": [
    {
     "name": "stdout",
     "output_type": "stream",
     "text": [
      "CPU times: user 6.17 s, sys: 1.02 s, total: 7.19 s\n",
      "Wall time: 2.82 s\n"
     ]
    }
   ],
   "source": [
    "# This video has 30 FPS, here we analyze only one frame per seconds with subsamp_coeff=30\n",
    "%time results1fps = g(vidsrc, subsamp_coeff=30)"
   ]
  },
  {
   "cell_type": "code",
   "execution_count": 10,
   "metadata": {},
   "outputs": [],
   "source": [
    "results1fps.to_csv('./media/pexels-artem-podrez-5725953-notrack-1dectpersec.csv', index=False, float_format='%.3f')"
   ]
  },
  {
   "cell_type": "code",
   "execution_count": 11,
   "metadata": {},
   "outputs": [
    {
     "name": "stdout",
     "output_type": "stream",
     "text": [
      "CPU times: user 7.4 s, sys: 2.07 s, total: 9.48 s\n",
      "Wall time: 3.95 s\n"
     ]
    }
   ],
   "source": [
    "#with tracking\n",
    "g = GenderTracking(5)\n",
    "%time tracking_results = g(vidsrc, subsamp_coeff=10)"
   ]
  },
  {
   "cell_type": "code",
   "execution_count": 12,
   "metadata": {},
   "outputs": [
    {
     "data": {
      "text/html": [
       "<div>\n",
       "<style scoped>\n",
       "    .dataframe tbody tr th:only-of-type {\n",
       "        vertical-align: middle;\n",
       "    }\n",
       "\n",
       "    .dataframe tbody tr th {\n",
       "        vertical-align: top;\n",
       "    }\n",
       "\n",
       "    .dataframe thead th {\n",
       "        text-align: right;\n",
       "    }\n",
       "</style>\n",
       "<table border=\"1\" class=\"dataframe\">\n",
       "  <thead>\n",
       "    <tr style=\"text-align: right;\">\n",
       "      <th></th>\n",
       "      <th>frame</th>\n",
       "      <th>bb</th>\n",
       "      <th>face_id</th>\n",
       "      <th>face_detect_conf</th>\n",
       "      <th>tracking_conf</th>\n",
       "      <th>sex_label</th>\n",
       "      <th>sex_decision_function</th>\n",
       "      <th>avg_sex_decision_function</th>\n",
       "      <th>avg_sex_label</th>\n",
       "    </tr>\n",
       "  </thead>\n",
       "  <tbody>\n",
       "    <tr>\n",
       "      <th>0</th>\n",
       "      <td>0</td>\n",
       "      <td>(61, 100, 274, 313)</td>\n",
       "      <td>0</td>\n",
       "      <td>0.997558</td>\n",
       "      <td>NaN</td>\n",
       "      <td>f</td>\n",
       "      <td>-9.417738</td>\n",
       "      <td>-9.286721</td>\n",
       "      <td>f</td>\n",
       "    </tr>\n",
       "    <tr>\n",
       "      <th>1</th>\n",
       "      <td>0</td>\n",
       "      <td>(951, -6, 1130, 172)</td>\n",
       "      <td>1</td>\n",
       "      <td>0.988243</td>\n",
       "      <td>NaN</td>\n",
       "      <td>m</td>\n",
       "      <td>11.823708</td>\n",
       "      <td>11.245781</td>\n",
       "      <td>m</td>\n",
       "    </tr>\n",
       "    <tr>\n",
       "      <th>2</th>\n",
       "      <td>0</td>\n",
       "      <td>(744, 17, 932, 206)</td>\n",
       "      <td>2</td>\n",
       "      <td>0.987248</td>\n",
       "      <td>NaN</td>\n",
       "      <td>f</td>\n",
       "      <td>-6.632426</td>\n",
       "      <td>-6.381718</td>\n",
       "      <td>f</td>\n",
       "    </tr>\n",
       "    <tr>\n",
       "      <th>3</th>\n",
       "      <td>0</td>\n",
       "      <td>(557, 198, 733, 374)</td>\n",
       "      <td>3</td>\n",
       "      <td>0.933711</td>\n",
       "      <td>NaN</td>\n",
       "      <td>m</td>\n",
       "      <td>18.386524</td>\n",
       "      <td>16.392128</td>\n",
       "      <td>m</td>\n",
       "    </tr>\n",
       "    <tr>\n",
       "      <th>4</th>\n",
       "      <td>0</td>\n",
       "      <td>(312, 161, 497, 346)</td>\n",
       "      <td>4</td>\n",
       "      <td>0.809412</td>\n",
       "      <td>NaN</td>\n",
       "      <td>f</td>\n",
       "      <td>-12.883549</td>\n",
       "      <td>-15.672619</td>\n",
       "      <td>f</td>\n",
       "    </tr>\n",
       "  </tbody>\n",
       "</table>\n",
       "</div>"
      ],
      "text/plain": [
       "   frame                    bb  face_id  face_detect_conf  tracking_conf  \\\n",
       "0      0   (61, 100, 274, 313)        0          0.997558            NaN   \n",
       "1      0  (951, -6, 1130, 172)        1          0.988243            NaN   \n",
       "2      0   (744, 17, 932, 206)        2          0.987248            NaN   \n",
       "3      0  (557, 198, 733, 374)        3          0.933711            NaN   \n",
       "4      0  (312, 161, 497, 346)        4          0.809412            NaN   \n",
       "\n",
       "  sex_label  sex_decision_function  avg_sex_decision_function avg_sex_label  \n",
       "0         f              -9.417738                  -9.286721             f  \n",
       "1         m              11.823708                  11.245781             m  \n",
       "2         f              -6.632426                  -6.381718             f  \n",
       "3         m              18.386524                  16.392128             m  \n",
       "4         f             -12.883549                 -15.672619             f  "
      ]
     },
     "execution_count": 12,
     "metadata": {},
     "output_type": "execute_result"
    }
   ],
   "source": [
    "tracking_results.head()"
   ]
  },
  {
   "cell_type": "code",
   "execution_count": 13,
   "metadata": {},
   "outputs": [],
   "source": [
    "tracking_results.to_csv('./media/pexels-artem-podrez-tracking5-subsamp10-VggFace_LSVM_YTF.csv', index=False, float_format='%.3f')"
   ]
  },
  {
   "cell_type": "code",
   "execution_count": null,
   "metadata": {},
   "outputs": [],
   "source": []
  }
 ],
 "metadata": {
  "kernelspec": {
   "display_name": "Python 3 (ipykernel)",
   "language": "python",
   "name": "python3"
  },
  "language_info": {
   "codemirror_mode": {
    "name": "ipython",
    "version": 3
   },
   "file_extension": ".py",
   "mimetype": "text/x-python",
   "name": "python",
   "nbconvert_exporter": "python",
   "pygments_lexer": "ipython3",
   "version": "3.8.10"
  }
 },
 "nbformat": 4,
 "nbformat_minor": 2
}
