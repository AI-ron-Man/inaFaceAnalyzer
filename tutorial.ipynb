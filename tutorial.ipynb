{
 "cells": [
  {
   "cell_type": "code",
   "execution_count": 1,
   "metadata": {},
   "outputs": [],
   "source": [
    "from inaFaceGender import GenderVideo"
   ]
  },
  {
   "cell_type": "code",
   "execution_count": 2,
   "metadata": {},
   "outputs": [
    {
     "name": "stderr",
     "output_type": "stream",
     "text": [
      "2021-09-16 12:33:44.364764: E tensorflow/stream_executor/cuda/cuda_driver.cc:271] failed call to cuInit: CUDA_ERROR_UNKNOWN: unknown error\n",
      "2021-09-16 12:33:44.364793: I tensorflow/stream_executor/cuda/cuda_diagnostics.cc:169] retrieving CUDA diagnostic information for host: blahtop\n",
      "2021-09-16 12:33:44.364798: I tensorflow/stream_executor/cuda/cuda_diagnostics.cc:176] hostname: blahtop\n",
      "2021-09-16 12:33:44.364857: I tensorflow/stream_executor/cuda/cuda_diagnostics.cc:200] libcuda reported version is: 470.63.1\n",
      "2021-09-16 12:33:44.364876: I tensorflow/stream_executor/cuda/cuda_diagnostics.cc:204] kernel reported version is: 470.63.1\n",
      "2021-09-16 12:33:44.364881: I tensorflow/stream_executor/cuda/cuda_diagnostics.cc:310] kernel version seems to match DSO: 470.63.1\n",
      "2021-09-16 12:33:44.365086: I tensorflow/core/platform/cpu_feature_guard.cc:142] This TensorFlow binary is optimized with oneAPI Deep Neural Network Library (oneDNN) to use the following CPU instructions in performance-critical operations:  AVX2 FMA\n",
      "To enable them in other operations, rebuild TensorFlow with the appropriate compiler flags.\n"
     ]
    }
   ],
   "source": [
    "g = GenderVideo(threshold= 0.65)"
   ]
  },
  {
   "cell_type": "code",
   "execution_count": 4,
   "metadata": {},
   "outputs": [
    {
     "name": "stderr",
     "output_type": "stream",
     "text": [
      "2021-09-16 12:33:52.633118: I tensorflow/compiler/mlir/mlir_graph_optimization_pass.cc:185] None of the MLIR Optimization Passes are enabled (registered 2)\n"
     ]
    },
    {
     "name": "stdout",
     "output_type": "stream",
     "text": [
      "CPU times: user 18min 15s, sys: 15.3 s, total: 18min 30s\n",
      "Wall time: 1min 52s\n"
     ]
    }
   ],
   "source": [
    "# without tracking \n",
    "%time results = g('./media/pexels-artem-podrez-5725953.mp4')"
   ]
  },
  {
   "cell_type": "code",
   "execution_count": 5,
   "metadata": {},
   "outputs": [
    {
     "data": {
      "text/html": [
       "<div>\n",
       "<style scoped>\n",
       "    .dataframe tbody tr th:only-of-type {\n",
       "        vertical-align: middle;\n",
       "    }\n",
       "\n",
       "    .dataframe tbody tr th {\n",
       "        vertical-align: top;\n",
       "    }\n",
       "\n",
       "    .dataframe thead th {\n",
       "        text-align: right;\n",
       "    }\n",
       "</style>\n",
       "<table border=\"1\" class=\"dataframe\">\n",
       "  <thead>\n",
       "    <tr style=\"text-align: right;\">\n",
       "      <th></th>\n",
       "      <th>frame</th>\n",
       "      <th>bb</th>\n",
       "      <th>label</th>\n",
       "      <th>decision</th>\n",
       "      <th>conf</th>\n",
       "    </tr>\n",
       "  </thead>\n",
       "  <tbody>\n",
       "    <tr>\n",
       "      <th>0</th>\n",
       "      <td>0.0</td>\n",
       "      <td>[(63, 98) (289, 332)]</td>\n",
       "      <td>f</td>\n",
       "      <td>-11.055</td>\n",
       "      <td>0.998</td>\n",
       "    </tr>\n",
       "    <tr>\n",
       "      <th>1</th>\n",
       "      <td>0.0</td>\n",
       "      <td>[(863, 0) (1233, 179)]</td>\n",
       "      <td>m</td>\n",
       "      <td>3.688</td>\n",
       "      <td>0.988</td>\n",
       "    </tr>\n",
       "    <tr>\n",
       "      <th>2</th>\n",
       "      <td>0.0</td>\n",
       "      <td>[(677, 23) (1015, 215)]</td>\n",
       "      <td>f</td>\n",
       "      <td>-4.113</td>\n",
       "      <td>0.987</td>\n",
       "    </tr>\n",
       "    <tr>\n",
       "      <th>3</th>\n",
       "      <td>0.0</td>\n",
       "      <td>[(507, 185) (796, 402)]</td>\n",
       "      <td>m</td>\n",
       "      <td>12.431</td>\n",
       "      <td>0.934</td>\n",
       "    </tr>\n",
       "    <tr>\n",
       "      <th>4</th>\n",
       "      <td>0.0</td>\n",
       "      <td>[(288, 152) (536, 370)]</td>\n",
       "      <td>f</td>\n",
       "      <td>-9.210</td>\n",
       "      <td>0.809</td>\n",
       "    </tr>\n",
       "  </tbody>\n",
       "</table>\n",
       "</div>"
      ],
      "text/plain": [
       "   frame                       bb label  decision   conf\n",
       "0    0.0    [(63, 98) (289, 332)]     f   -11.055  0.998\n",
       "1    0.0   [(863, 0) (1233, 179)]     m     3.688  0.988\n",
       "2    0.0  [(677, 23) (1015, 215)]     f    -4.113  0.987\n",
       "3    0.0  [(507, 185) (796, 402)]     m    12.431  0.934\n",
       "4    0.0  [(288, 152) (536, 370)]     f    -9.210  0.809"
      ]
     },
     "execution_count": 5,
     "metadata": {},
     "output_type": "execute_result"
    }
   ],
   "source": [
    "results.head()"
   ]
  },
  {
   "cell_type": "code",
   "execution_count": 6,
   "metadata": {},
   "outputs": [],
   "source": [
    "results.to_csv('./media/pexels-artem-podrez-5725953-notracking.csv', index=False)"
   ]
  },
  {
   "cell_type": "code",
   "execution_count": 7,
   "metadata": {},
   "outputs": [
    {
     "name": "stdout",
     "output_type": "stream",
     "text": [
      "CPU times: user 39.4 s, sys: 512 ms, total: 40 s\n",
      "Wall time: 4.16 s\n"
     ]
    }
   ],
   "source": [
    "%time results = g('./media/pexels-artem-podrez-5725953.mp4', subsamp_coeff=25)"
   ]
  },
  {
   "cell_type": "code",
   "execution_count": 8,
   "metadata": {},
   "outputs": [],
   "source": [
    "results.to_csv('./media/pexels-artem-podrez-5725953-notrack-1dectpersec.csv', index=False)"
   ]
  },
  {
   "cell_type": "code",
   "execution_count": 6,
   "metadata": {},
   "outputs": [
    {
     "name": "stdout",
     "output_type": "stream",
     "text": [
      "CPU times: user 19min 27s, sys: 15.4 s, total: 19min 43s\n",
      "Wall time: 3min 42s\n"
     ]
    }
   ],
   "source": [
    "#processing every 2 frames\n",
    "%time results_per_2_frames = g('/home/ddoukhan/demo_zohra/pretty_woman_small.mp4', per_frames= 2 )"
   ]
  },
  {
   "cell_type": "code",
   "execution_count": 7,
   "metadata": {},
   "outputs": [
    {
     "data": {
      "text/html": [
       "<div>\n",
       "<style scoped>\n",
       "    .dataframe tbody tr th:only-of-type {\n",
       "        vertical-align: middle;\n",
       "    }\n",
       "\n",
       "    .dataframe tbody tr th {\n",
       "        vertical-align: top;\n",
       "    }\n",
       "\n",
       "    .dataframe thead th {\n",
       "        text-align: right;\n",
       "    }\n",
       "</style>\n",
       "<table border=\"1\" class=\"dataframe\">\n",
       "  <thead>\n",
       "    <tr style=\"text-align: right;\">\n",
       "      <th></th>\n",
       "      <th>frame</th>\n",
       "      <th>bb</th>\n",
       "      <th>size</th>\n",
       "      <th>label</th>\n",
       "      <th>decision</th>\n",
       "      <th>conf</th>\n",
       "    </tr>\n",
       "  </thead>\n",
       "  <tbody>\n",
       "    <tr>\n",
       "      <th>0</th>\n",
       "      <td>8.0</td>\n",
       "      <td>[(355, 87) (592, 265)]</td>\n",
       "      <td>(178, 178)</td>\n",
       "      <td>m</td>\n",
       "      <td>6.059</td>\n",
       "      <td>0.954</td>\n",
       "    </tr>\n",
       "    <tr>\n",
       "      <th>1</th>\n",
       "      <td>10.0</td>\n",
       "      <td>[(353, 85) (595, 267)]</td>\n",
       "      <td>(182, 182)</td>\n",
       "      <td>m</td>\n",
       "      <td>5.822</td>\n",
       "      <td>0.942</td>\n",
       "    </tr>\n",
       "    <tr>\n",
       "      <th>2</th>\n",
       "      <td>12.0</td>\n",
       "      <td>[(355, 87) (595, 267)]</td>\n",
       "      <td>(180, 180)</td>\n",
       "      <td>m</td>\n",
       "      <td>6.276</td>\n",
       "      <td>0.943</td>\n",
       "    </tr>\n",
       "    <tr>\n",
       "      <th>3</th>\n",
       "      <td>14.0</td>\n",
       "      <td>[(356, 88) (594, 266)]</td>\n",
       "      <td>(178, 178)</td>\n",
       "      <td>m</td>\n",
       "      <td>6.239</td>\n",
       "      <td>0.951</td>\n",
       "    </tr>\n",
       "    <tr>\n",
       "      <th>4</th>\n",
       "      <td>16.0</td>\n",
       "      <td>[(358, 89) (594, 265)]</td>\n",
       "      <td>(176, 176)</td>\n",
       "      <td>m</td>\n",
       "      <td>6.429</td>\n",
       "      <td>0.958</td>\n",
       "    </tr>\n",
       "  </tbody>\n",
       "</table>\n",
       "</div>"
      ],
      "text/plain": [
       "   frame                      bb        size label  decision   conf\n",
       "0    8.0  [(355, 87) (592, 265)]  (178, 178)     m     6.059  0.954\n",
       "1   10.0  [(353, 85) (595, 267)]  (182, 182)     m     5.822  0.942\n",
       "2   12.0  [(355, 87) (595, 267)]  (180, 180)     m     6.276  0.943\n",
       "3   14.0  [(356, 88) (594, 266)]  (178, 178)     m     6.239  0.951\n",
       "4   16.0  [(358, 89) (594, 265)]  (176, 176)     m     6.429  0.958"
      ]
     },
     "execution_count": 7,
     "metadata": {},
     "output_type": "execute_result"
    }
   ],
   "source": [
    "results_per_2_frames.head()"
   ]
  },
  {
   "cell_type": "code",
   "execution_count": 8,
   "metadata": {},
   "outputs": [
    {
     "name": "stdout",
     "output_type": "stream",
     "text": [
      "CPU times: user 19min 3s, sys: 1min 1s, total: 20min 4s\n",
      "Wall time: 4min 17s\n"
     ]
    }
   ],
   "source": [
    "#with tracking\n",
    "%time tracking_results = g.detect_with_tracking('/home/ddoukhan/demo_zohra/pretty_woman_small.mp4',k_frames=12)"
   ]
  },
  {
   "cell_type": "code",
   "execution_count": 10,
   "metadata": {},
   "outputs": [
    {
     "data": {
      "text/html": [
       "<div>\n",
       "<style scoped>\n",
       "    .dataframe tbody tr th:only-of-type {\n",
       "        vertical-align: middle;\n",
       "    }\n",
       "\n",
       "    .dataframe tbody tr th {\n",
       "        vertical-align: top;\n",
       "    }\n",
       "\n",
       "    .dataframe thead th {\n",
       "        text-align: right;\n",
       "    }\n",
       "</style>\n",
       "<table border=\"1\" class=\"dataframe\">\n",
       "  <thead>\n",
       "    <tr style=\"text-align: right;\">\n",
       "      <th></th>\n",
       "      <th>frame</th>\n",
       "      <th>faceid</th>\n",
       "      <th>bb</th>\n",
       "      <th>size</th>\n",
       "      <th>label</th>\n",
       "      <th>decision</th>\n",
       "      <th>conf</th>\n",
       "      <th>smoothed_decision</th>\n",
       "      <th>smoothed_label</th>\n",
       "    </tr>\n",
       "  </thead>\n",
       "  <tbody>\n",
       "    <tr>\n",
       "      <th>0</th>\n",
       "      <td>12.0</td>\n",
       "      <td>0</td>\n",
       "      <td>[(355, 87) (597, 269)]</td>\n",
       "      <td>(242, 182)</td>\n",
       "      <td>m</td>\n",
       "      <td>8.007</td>\n",
       "      <td>0.943</td>\n",
       "      <td>9.8647</td>\n",
       "      <td>m</td>\n",
       "    </tr>\n",
       "    <tr>\n",
       "      <th>1</th>\n",
       "      <td>13.0</td>\n",
       "      <td>0</td>\n",
       "      <td>[(355, 87) (596, 268)]</td>\n",
       "      <td>(241, 181)</td>\n",
       "      <td>m</td>\n",
       "      <td>8.452</td>\n",
       "      <td>0.943</td>\n",
       "      <td>9.8647</td>\n",
       "      <td>m</td>\n",
       "    </tr>\n",
       "    <tr>\n",
       "      <th>2</th>\n",
       "      <td>14.0</td>\n",
       "      <td>0</td>\n",
       "      <td>[(355, 86) (597, 268)]</td>\n",
       "      <td>(242, 182)</td>\n",
       "      <td>m</td>\n",
       "      <td>8.271</td>\n",
       "      <td>0.943</td>\n",
       "      <td>9.8647</td>\n",
       "      <td>m</td>\n",
       "    </tr>\n",
       "    <tr>\n",
       "      <th>3</th>\n",
       "      <td>15.0</td>\n",
       "      <td>0</td>\n",
       "      <td>[(355, 86) (596, 267)]</td>\n",
       "      <td>(241, 181)</td>\n",
       "      <td>m</td>\n",
       "      <td>7.903</td>\n",
       "      <td>0.943</td>\n",
       "      <td>9.8647</td>\n",
       "      <td>m</td>\n",
       "    </tr>\n",
       "    <tr>\n",
       "      <th>4</th>\n",
       "      <td>16.0</td>\n",
       "      <td>0</td>\n",
       "      <td>[(355, 86) (596, 267)]</td>\n",
       "      <td>(241, 181)</td>\n",
       "      <td>m</td>\n",
       "      <td>7.966</td>\n",
       "      <td>0.943</td>\n",
       "      <td>9.8647</td>\n",
       "      <td>m</td>\n",
       "    </tr>\n",
       "  </tbody>\n",
       "</table>\n",
       "</div>"
      ],
      "text/plain": [
       "   frame  faceid                      bb        size label  decision   conf  \\\n",
       "0   12.0       0  [(355, 87) (597, 269)]  (242, 182)     m     8.007  0.943   \n",
       "1   13.0       0  [(355, 87) (596, 268)]  (241, 181)     m     8.452  0.943   \n",
       "2   14.0       0  [(355, 86) (597, 268)]  (242, 182)     m     8.271  0.943   \n",
       "3   15.0       0  [(355, 86) (596, 267)]  (241, 181)     m     7.903  0.943   \n",
       "4   16.0       0  [(355, 86) (596, 267)]  (241, 181)     m     7.966  0.943   \n",
       "\n",
       "   smoothed_decision smoothed_label  \n",
       "0             9.8647              m  \n",
       "1             9.8647              m  \n",
       "2             9.8647              m  \n",
       "3             9.8647              m  \n",
       "4             9.8647              m  "
      ]
     },
     "execution_count": 10,
     "metadata": {},
     "output_type": "execute_result"
    }
   ],
   "source": [
    "tracking_results.head()"
   ]
  },
  {
   "cell_type": "code",
   "execution_count": 11,
   "metadata": {},
   "outputs": [
    {
     "name": "stdout",
     "output_type": "stream",
     "text": [
      "CPU times: user 12min 17s, sys: 36.3 s, total: 12min 53s\n",
      "Wall time: 2min 33s\n"
     ]
    }
   ],
   "source": [
    "#processing every 2 frames\n",
    "%time tracking_results = g.detect_with_tracking('/home/ddoukhan/demo_zohra/pretty_woman_small.mp4',per_frames=2, k_frames=12)"
   ]
  },
  {
   "cell_type": "code",
   "execution_count": 12,
   "metadata": {},
   "outputs": [
    {
     "data": {
      "text/html": [
       "<div>\n",
       "<style scoped>\n",
       "    .dataframe tbody tr th:only-of-type {\n",
       "        vertical-align: middle;\n",
       "    }\n",
       "\n",
       "    .dataframe tbody tr th {\n",
       "        vertical-align: top;\n",
       "    }\n",
       "\n",
       "    .dataframe thead th {\n",
       "        text-align: right;\n",
       "    }\n",
       "</style>\n",
       "<table border=\"1\" class=\"dataframe\">\n",
       "  <thead>\n",
       "    <tr style=\"text-align: right;\">\n",
       "      <th></th>\n",
       "      <th>frame</th>\n",
       "      <th>faceid</th>\n",
       "      <th>bb</th>\n",
       "      <th>size</th>\n",
       "      <th>label</th>\n",
       "      <th>decision</th>\n",
       "      <th>conf</th>\n",
       "      <th>smoothed_decision</th>\n",
       "      <th>smoothed_label</th>\n",
       "    </tr>\n",
       "  </thead>\n",
       "  <tbody>\n",
       "    <tr>\n",
       "      <th>0</th>\n",
       "      <td>12.0</td>\n",
       "      <td>0</td>\n",
       "      <td>[(355, 87) (597, 269)]</td>\n",
       "      <td>(242, 182)</td>\n",
       "      <td>m</td>\n",
       "      <td>8.007</td>\n",
       "      <td>0.943</td>\n",
       "      <td>9.888375</td>\n",
       "      <td>m</td>\n",
       "    </tr>\n",
       "    <tr>\n",
       "      <th>1</th>\n",
       "      <td>14.0</td>\n",
       "      <td>0</td>\n",
       "      <td>[(355, 86) (596, 267)]</td>\n",
       "      <td>(241, 181)</td>\n",
       "      <td>m</td>\n",
       "      <td>8.360</td>\n",
       "      <td>0.943</td>\n",
       "      <td>9.888375</td>\n",
       "      <td>m</td>\n",
       "    </tr>\n",
       "    <tr>\n",
       "      <th>2</th>\n",
       "      <td>16.0</td>\n",
       "      <td>0</td>\n",
       "      <td>[(355, 86) (596, 267)]</td>\n",
       "      <td>(241, 181)</td>\n",
       "      <td>m</td>\n",
       "      <td>7.966</td>\n",
       "      <td>0.943</td>\n",
       "      <td>9.888375</td>\n",
       "      <td>m</td>\n",
       "    </tr>\n",
       "    <tr>\n",
       "      <th>3</th>\n",
       "      <td>18.0</td>\n",
       "      <td>0</td>\n",
       "      <td>[(355, 86) (596, 267)]</td>\n",
       "      <td>(241, 181)</td>\n",
       "      <td>m</td>\n",
       "      <td>7.584</td>\n",
       "      <td>0.943</td>\n",
       "      <td>9.888375</td>\n",
       "      <td>m</td>\n",
       "    </tr>\n",
       "    <tr>\n",
       "      <th>4</th>\n",
       "      <td>20.0</td>\n",
       "      <td>0</td>\n",
       "      <td>[(355, 86) (596, 267)]</td>\n",
       "      <td>(241, 181)</td>\n",
       "      <td>m</td>\n",
       "      <td>7.630</td>\n",
       "      <td>0.943</td>\n",
       "      <td>9.888375</td>\n",
       "      <td>m</td>\n",
       "    </tr>\n",
       "  </tbody>\n",
       "</table>\n",
       "</div>"
      ],
      "text/plain": [
       "   frame  faceid                      bb        size label  decision   conf  \\\n",
       "0   12.0       0  [(355, 87) (597, 269)]  (242, 182)     m     8.007  0.943   \n",
       "1   14.0       0  [(355, 86) (596, 267)]  (241, 181)     m     8.360  0.943   \n",
       "2   16.0       0  [(355, 86) (596, 267)]  (241, 181)     m     7.966  0.943   \n",
       "3   18.0       0  [(355, 86) (596, 267)]  (241, 181)     m     7.584  0.943   \n",
       "4   20.0       0  [(355, 86) (596, 267)]  (241, 181)     m     7.630  0.943   \n",
       "\n",
       "   smoothed_decision smoothed_label  \n",
       "0           9.888375              m  \n",
       "1           9.888375              m  \n",
       "2           9.888375              m  \n",
       "3           9.888375              m  \n",
       "4           9.888375              m  "
      ]
     },
     "execution_count": 12,
     "metadata": {},
     "output_type": "execute_result"
    }
   ],
   "source": [
    "tracking_results.head()"
   ]
  },
  {
   "cell_type": "code",
   "execution_count": null,
   "metadata": {},
   "outputs": [],
   "source": []
  }
 ],
 "metadata": {
  "kernelspec": {
   "display_name": "Python 3 (ipykernel)",
   "language": "python",
   "name": "python3"
  },
  "language_info": {
   "codemirror_mode": {
    "name": "ipython",
    "version": 3
   },
   "file_extension": ".py",
   "mimetype": "text/x-python",
   "name": "python",
   "nbconvert_exporter": "python",
   "pygments_lexer": "ipython3",
   "version": "3.8.10"
  }
 },
 "nbformat": 4,
 "nbformat_minor": 2
}
