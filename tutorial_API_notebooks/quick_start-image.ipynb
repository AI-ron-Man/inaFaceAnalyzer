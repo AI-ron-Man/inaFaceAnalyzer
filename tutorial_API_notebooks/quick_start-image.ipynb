{
 "cells": [
  {
   "cell_type": "markdown",
   "id": "382fe905",
   "metadata": {},
   "source": [
    "# Using inaFaceAnalyzer API: image analysis quick-start tutorial\n",
    "In this tutorial, we use inaFaceAnalyzer with default analysis parameters on image files. We export results to CSV and display intermediate processing steps."
   ]
  },
  {
   "cell_type": "markdown",
   "id": "8402804d",
   "metadata": {},
   "source": [
    "## Install inaFaceAnalyzer"
   ]
  },
  {
   "cell_type": "code",
   "execution_count": null,
   "id": "2509f2b6",
   "metadata": {},
   "outputs": [],
   "source": [
    "# try to import inaFaceAnalyzer and import it from Pypi's\n",
    "# if it is not available\n",
    "try:\n",
    "  import inaFaceAnalyzer\n",
    "except:\n",
    "  # install inaFaceAnalyzer Pypi's distribution\n",
    "  !pip install inaFaceAnalyzer"
   ]
  },
  {
   "cell_type": "markdown",
   "id": "c359cd5a",
   "metadata": {},
   "source": [
    "## Download and display a sample images"
   ]
  },
  {
   "cell_type": "code",
   "execution_count": null,
   "id": "b6e75e17",
   "metadata": {},
   "outputs": [],
   "source": [
    "from IPython.display import Image, display\n",
    "from tensorflow.keras.utils import get_file\n",
    "\n",
    "urlprefix = 'https://raw.githubusercontent.com/ina-foss/inaFaceAnalyzer/master/media/'\n",
    "\n",
    "# download Donald Knuth remote image\n",
    "donald = get_file('donald.jpg', urlprefix + 'dknuth.jpg')\n",
    "# print local path to image\n",
    "print(donald)\n",
    "# display image in a notebook\n",
    "display(Image(donald))\n",
    "\n",
    "# download a familily picture\n",
    "family = get_file('family.jpg', urlprefix + '1328360239_e56cc26d26_o.jpg')\n",
    "# print local path to image\n",
    "print(family)\n",
    "# display image full path\n",
    "display(Image(family))"
   ]
  },
  {
   "cell_type": "markdown",
   "id": "5ec22f1a",
   "metadata": {},
   "source": [
    "## Analyse a single image with default parameters\n",
    "Single image analysis requires to use the ImageAnalyzer engine. ImageAnalyzer constructor may require several seconds and should be done a single time when processing several image files. ImageAnalyzer constructor may accept several parameters that will be covered in more advanced tutorials."
   ]
  },
  {
   "cell_type": "code",
   "execution_count": null,
   "id": "a016b5aa",
   "metadata": {},
   "outputs": [],
   "source": [
    "# Import ImageAnalyzer class\n",
    "from inaFaceAnalyzer.inaFaceAnalyzer import ImageAnalyzer\n",
    "# create an image analyzer engine instance\n",
    "ia = ImageAnalyzer()"
   ]
  },
  {
   "cell_type": "code",
   "execution_count": null,
   "id": "d05b40bf",
   "metadata": {},
   "outputs": [],
   "source": [
    "# Process an image\n",
    "df = ia(donald)"
   ]
  },
  {
   "cell_type": "code",
   "execution_count": null,
   "id": "4fa8ec59",
   "metadata": {},
   "outputs": [],
   "source": [
    "# Analysis results are returned as pandas DataFrames\n",
    "# see https://pandas.pydata.org/docs/\n",
    "# Results contain one line per detected faces and several columns :\n",
    "#\n",
    "# frame: the full path to the imaged used\n",
    "# bbox: (left, top, right, bottom) the bounding box of the face in the image frame\n",
    "# detect_conf: the face detection confidence estimate (dependent on the face detection method used)\n",
    "# sex_decfunc: raw gender classifier output : positive values are used for men and negative values for women\n",
    "# sex_label: gender classifer prediction: 'm' for men and 'w' for 'women'\n",
    "# age_decfunc: raw age regression output based on FairFace age categories.\n",
    "# 0 for (0-3 years old), 1 for (4-9) years, 2 for (10-19)  years, 3 for (20-29)  years, etc...\n",
    "# sex_label : \"human-readable\" age prediction\n",
    "#\n",
    "# For Donald Knuth picture, we found a single face, labelled as 62 years old male\n",
    "df"
   ]
  },
  {
   "cell_type": "code",
   "execution_count": null,
   "id": "b48605f7",
   "metadata": {},
   "outputs": [],
   "source": [
    "# export results to CSV\n",
    "df.to_csv('./donald.csv', index=False)"
   ]
  },
  {
   "cell_type": "code",
   "execution_count": null,
   "id": "61a56cfd",
   "metadata": {},
   "outputs": [],
   "source": [
    "# for the family picture, we found 7 male and female faces from 2.4 to 60.3 years old\n",
    "ia(family)"
   ]
  },
  {
   "cell_type": "markdown",
   "id": "4a6f486d",
   "metadata": {},
   "source": [
    "## Displaying results and intermediate processing steps\n",
    "Setting named argument `verbose=True` in analysis engine constructor allow to display intermediate processing steps and final results, in a more human-friendly way than CSV or dataframes. This may be usefull for debugging and integrating new components, or having insights on the quality of the results obtained for a given material.\n",
    "The information displayed for ImageAnalyzer are :\n",
    "* raw image\n",
    "* image with incrusted bounding boxes\n",
    "* original faces corresponding to detection bounding boxes\n",
    "* preprocessed faces (after bounding box scaling and eyes alignment)\n",
    "* classification results\n",
    "\n",
    "\n",
    "Intermediate image display is costly and should be avoided in production"
   ]
  },
  {
   "cell_type": "code",
   "execution_count": null,
   "id": "a81e7229",
   "metadata": {},
   "outputs": [],
   "source": [
    "# setting named argument verbose=True in ImageAnalyzer constructor allows to\n",
    "# display intermediate processings. Image display is costly and should be avoided in production.\n",
    "ia = ImageAnalyzer(verbose=True)\n",
    "ia(donald)"
   ]
  },
  {
   "cell_type": "code",
   "execution_count": null,
   "id": "931f8b63",
   "metadata": {},
   "outputs": [],
   "source": [
    "ia(family)"
   ]
  },
  {
   "cell_type": "markdown",
   "id": "9377f832",
   "metadata": {},
   "source": [
    "## Faster analyses with image lists\n",
    "`inaFaceAnalyzer` back-end provide batches of 32 preprocess faces to face classifiers in order to speed-up computation time. Consequently, faster processing times can be obtained using list of images instead of isolated images."
   ]
  },
  {
   "cell_type": "code",
   "execution_count": null,
   "id": "4fc8bc7d",
   "metadata": {},
   "outputs": [],
   "source": [
    "# process image list with verbose=True in previously construted analyzer\n",
    "df = ia([donald, family])"
   ]
  },
  {
   "cell_type": "code",
   "execution_count": null,
   "id": "ab7a968b",
   "metadata": {},
   "outputs": [],
   "source": [
    "# display result\n",
    "# a single line is used for Donald Knuth's picture, and the 7 remaining lines are for the family picture\n",
    "df"
   ]
  },
  {
   "cell_type": "code",
   "execution_count": null,
   "id": "1dc9e1a8",
   "metadata": {},
   "outputs": [],
   "source": []
  }
 ],
 "metadata": {
  "kernelspec": {
   "display_name": "Python 3 (ipykernel)",
   "language": "python",
   "name": "python3"
  },
  "language_info": {
   "codemirror_mode": {
    "name": "ipython",
    "version": 3
   },
   "file_extension": ".py",
   "mimetype": "text/x-python",
   "name": "python",
   "nbconvert_exporter": "python",
   "pygments_lexer": "ipython3",
   "version": "3.8.10"
  }
 },
 "nbformat": 4,
 "nbformat_minor": 5
}
