{
 "cells": [
  {
   "cell_type": "code",
   "execution_count": 1,
   "id": "7c270791",
   "metadata": {},
   "outputs": [],
   "source": [
    "from inaFaceAnalyzer import VideoAnalyzer\n",
    "from inaFaceAnalyzer.face_detector import LibFaceDetection\n",
    "#from inaFaceAnalyzer.opencv_utils import get_video_properties, analysisFPS2subsamp_coeff\n",
    "from inaFaceAnalyzer.display_utils import ass_subtitle_export\n",
    "import os\n",
    "#import pandas as pd"
   ]
  },
  {
   "cell_type": "code",
   "execution_count": 2,
   "id": "4160db09",
   "metadata": {},
   "outputs": [
    {
     "name": "stderr",
     "output_type": "stream",
     "text": [
      "2021-11-07 18:13:39.729185: I tensorflow/stream_executor/cuda/cuda_gpu_executor.cc:939] successful NUMA node read from SysFS had negative value (-1), but there must be at least one NUMA node, so returning NUMA node zero\n",
      "2021-11-07 18:13:39.730616: I tensorflow/stream_executor/cuda/cuda_gpu_executor.cc:939] successful NUMA node read from SysFS had negative value (-1), but there must be at least one NUMA node, so returning NUMA node zero\n",
      "2021-11-07 18:13:39.730852: I tensorflow/stream_executor/cuda/cuda_gpu_executor.cc:939] successful NUMA node read from SysFS had negative value (-1), but there must be at least one NUMA node, so returning NUMA node zero\n",
      "2021-11-07 18:13:39.731179: I tensorflow/core/platform/cpu_feature_guard.cc:151] This TensorFlow binary is optimized with oneAPI Deep Neural Network Library (oneDNN) to use the following CPU instructions in performance-critical operations:  AVX2 FMA\n",
      "To enable them in other operations, rebuild TensorFlow with the appropriate compiler flags.\n",
      "2021-11-07 18:13:39.732247: I tensorflow/stream_executor/cuda/cuda_gpu_executor.cc:939] successful NUMA node read from SysFS had negative value (-1), but there must be at least one NUMA node, so returning NUMA node zero\n",
      "2021-11-07 18:13:39.732481: I tensorflow/stream_executor/cuda/cuda_gpu_executor.cc:939] successful NUMA node read from SysFS had negative value (-1), but there must be at least one NUMA node, so returning NUMA node zero\n",
      "2021-11-07 18:13:39.732700: I tensorflow/stream_executor/cuda/cuda_gpu_executor.cc:939] successful NUMA node read from SysFS had negative value (-1), but there must be at least one NUMA node, so returning NUMA node zero\n",
      "2021-11-07 18:13:39.733020: I tensorflow/stream_executor/cuda/cuda_gpu_executor.cc:939] successful NUMA node read from SysFS had negative value (-1), but there must be at least one NUMA node, so returning NUMA node zero\n",
      "2021-11-07 18:13:39.733246: I tensorflow/stream_executor/cuda/cuda_gpu_executor.cc:939] successful NUMA node read from SysFS had negative value (-1), but there must be at least one NUMA node, so returning NUMA node zero\n",
      "2021-11-07 18:13:39.733467: I tensorflow/stream_executor/cuda/cuda_gpu_executor.cc:939] successful NUMA node read from SysFS had negative value (-1), but there must be at least one NUMA node, so returning NUMA node zero\n",
      "2021-11-07 18:13:39.733677: I tensorflow/core/common_runtime/gpu/gpu_device.cc:1525] Created device /job:localhost/replica:0/task:0/device:GPU:0 with 1747 MB memory:  -> device: 0, name: Quadro T2000 with Max-Q Design, pci bus id: 0000:01:00.0, compute capability: 7.5\n"
     ]
    }
   ],
   "source": [
    "gv = VideoAnalyzer(face_detector=LibFaceDetection())"
   ]
  },
  {
   "cell_type": "code",
   "execution_count": 3,
   "id": "3f6c84c3",
   "metadata": {},
   "outputs": [
    {
     "name": "stderr",
     "output_type": "stream",
     "text": [
      "2021-11-07 18:13:45.787614: I tensorflow/stream_executor/cuda/cuda_dnn.cc:366] Loaded cuDNN version 8204\n",
      "2021-11-07 18:13:45.791754: I tensorflow/core/platform/default/subprocess.cc:304] Start cannot spawn child process: No such file or directory\n",
      "2021-11-07 18:13:46.898793: W tensorflow/core/common_runtime/bfc_allocator.cc:275] Allocator (GPU_0_bfc) ran out of memory trying to allocate 2.30GiB with freed_by_count=0. The caller indicates that this is not a failure, but may mean that there could be performance gains if more memory were available.\n",
      "2021-11-07 18:13:46.898865: W tensorflow/core/common_runtime/bfc_allocator.cc:275] Allocator (GPU_0_bfc) ran out of memory trying to allocate 2.30GiB with freed_by_count=0. The caller indicates that this is not a failure, but may mean that there could be performance gains if more memory were available.\n",
      "2021-11-07 18:13:46.952299: W tensorflow/core/common_runtime/bfc_allocator.cc:275] Allocator (GPU_0_bfc) ran out of memory trying to allocate 2.41GiB with freed_by_count=0. The caller indicates that this is not a failure, but may mean that there could be performance gains if more memory were available.\n",
      "2021-11-07 18:13:46.952371: W tensorflow/core/common_runtime/bfc_allocator.cc:275] Allocator (GPU_0_bfc) ran out of memory trying to allocate 2.41GiB with freed_by_count=0. The caller indicates that this is not a failure, but may mean that there could be performance gains if more memory were available.\n"
     ]
    },
    {
     "name": "stdout",
     "output_type": "stream",
     "text": [
      "CPU times: user 10.2 s, sys: 526 ms, total: 10.7 s\n",
      "Wall time: 8.33 s\n"
     ]
    }
   ],
   "source": [
    "analysis_fps = 5\n",
    "vid_src = './media/pexels-artem-podrez-5725953.mp4'\n",
    "%time ret = gv(vid_src, fps=analysis_fps)"
   ]
  },
  {
   "cell_type": "code",
   "execution_count": 4,
   "id": "673f9a69",
   "metadata": {},
   "outputs": [
    {
     "data": {
      "text/html": [
       "<div>\n",
       "<style scoped>\n",
       "    .dataframe tbody tr th:only-of-type {\n",
       "        vertical-align: middle;\n",
       "    }\n",
       "\n",
       "    .dataframe tbody tr th {\n",
       "        vertical-align: top;\n",
       "    }\n",
       "\n",
       "    .dataframe thead th {\n",
       "        text-align: right;\n",
       "    }\n",
       "</style>\n",
       "<table border=\"1\" class=\"dataframe\">\n",
       "  <thead>\n",
       "    <tr style=\"text-align: right;\">\n",
       "      <th></th>\n",
       "      <th>frame</th>\n",
       "      <th>bbox</th>\n",
       "      <th>detect_conf</th>\n",
       "      <th>sex_decfunc</th>\n",
       "      <th>age_decfunc</th>\n",
       "      <th>sex_label</th>\n",
       "      <th>age_label</th>\n",
       "    </tr>\n",
       "  </thead>\n",
       "  <tbody>\n",
       "    <tr>\n",
       "      <th>0</th>\n",
       "      <td>0</td>\n",
       "      <td>(945, -16, 1138, 176)</td>\n",
       "      <td>0.999999</td>\n",
       "      <td>8.180833</td>\n",
       "      <td>3.883811</td>\n",
       "      <td>m</td>\n",
       "      <td>33.838105</td>\n",
       "    </tr>\n",
       "    <tr>\n",
       "      <th>1</th>\n",
       "      <td>0</td>\n",
       "      <td>(70, 118, 272, 320)</td>\n",
       "      <td>0.999996</td>\n",
       "      <td>-12.277652</td>\n",
       "      <td>3.165739</td>\n",
       "      <td>f</td>\n",
       "      <td>26.657391</td>\n",
       "    </tr>\n",
       "    <tr>\n",
       "      <th>2</th>\n",
       "      <td>0</td>\n",
       "      <td>(310, 163, 491, 343)</td>\n",
       "      <td>0.999979</td>\n",
       "      <td>-10.850051</td>\n",
       "      <td>2.996131</td>\n",
       "      <td>f</td>\n",
       "      <td>24.961309</td>\n",
       "    </tr>\n",
       "    <tr>\n",
       "      <th>3</th>\n",
       "      <td>0</td>\n",
       "      <td>(558, 201, 727, 371)</td>\n",
       "      <td>0.999974</td>\n",
       "      <td>8.937375</td>\n",
       "      <td>2.911818</td>\n",
       "      <td>m</td>\n",
       "      <td>24.118176</td>\n",
       "    </tr>\n",
       "    <tr>\n",
       "      <th>4</th>\n",
       "      <td>0</td>\n",
       "      <td>(744, 22, 929, 207)</td>\n",
       "      <td>0.981539</td>\n",
       "      <td>-7.614790</td>\n",
       "      <td>2.310285</td>\n",
       "      <td>f</td>\n",
       "      <td>18.102851</td>\n",
       "    </tr>\n",
       "    <tr>\n",
       "      <th>...</th>\n",
       "      <td>...</td>\n",
       "      <td>...</td>\n",
       "      <td>...</td>\n",
       "      <td>...</td>\n",
       "      <td>...</td>\n",
       "      <td>...</td>\n",
       "      <td>...</td>\n",
       "    </tr>\n",
       "    <tr>\n",
       "      <th>219</th>\n",
       "      <td>348</td>\n",
       "      <td>(343, 130, 472, 259)</td>\n",
       "      <td>0.999986</td>\n",
       "      <td>-8.917944</td>\n",
       "      <td>2.868898</td>\n",
       "      <td>f</td>\n",
       "      <td>23.688979</td>\n",
       "    </tr>\n",
       "    <tr>\n",
       "      <th>220</th>\n",
       "      <td>348</td>\n",
       "      <td>(-44, 108, 165, 319)</td>\n",
       "      <td>0.999736</td>\n",
       "      <td>-7.542466</td>\n",
       "      <td>3.348511</td>\n",
       "      <td>f</td>\n",
       "      <td>28.485112</td>\n",
       "    </tr>\n",
       "    <tr>\n",
       "      <th>221</th>\n",
       "      <td>354</td>\n",
       "      <td>(877, 65, 1013, 201)</td>\n",
       "      <td>0.999999</td>\n",
       "      <td>-8.295115</td>\n",
       "      <td>2.623810</td>\n",
       "      <td>f</td>\n",
       "      <td>21.238101</td>\n",
       "    </tr>\n",
       "    <tr>\n",
       "      <th>222</th>\n",
       "      <td>354</td>\n",
       "      <td>(611, 260, 796, 444)</td>\n",
       "      <td>0.999990</td>\n",
       "      <td>12.288671</td>\n",
       "      <td>2.911372</td>\n",
       "      <td>m</td>\n",
       "      <td>24.113717</td>\n",
       "    </tr>\n",
       "    <tr>\n",
       "      <th>223</th>\n",
       "      <td>354</td>\n",
       "      <td>(343, 120, 478, 255)</td>\n",
       "      <td>0.999971</td>\n",
       "      <td>-8.364806</td>\n",
       "      <td>2.885690</td>\n",
       "      <td>f</td>\n",
       "      <td>23.856900</td>\n",
       "    </tr>\n",
       "  </tbody>\n",
       "</table>\n",
       "<p>224 rows × 7 columns</p>\n",
       "</div>"
      ],
      "text/plain": [
       "     frame                   bbox  detect_conf  sex_decfunc  age_decfunc  \\\n",
       "0        0  (945, -16, 1138, 176)     0.999999     8.180833     3.883811   \n",
       "1        0    (70, 118, 272, 320)     0.999996   -12.277652     3.165739   \n",
       "2        0   (310, 163, 491, 343)     0.999979   -10.850051     2.996131   \n",
       "3        0   (558, 201, 727, 371)     0.999974     8.937375     2.911818   \n",
       "4        0    (744, 22, 929, 207)     0.981539    -7.614790     2.310285   \n",
       "..     ...                    ...          ...          ...          ...   \n",
       "219    348   (343, 130, 472, 259)     0.999986    -8.917944     2.868898   \n",
       "220    348   (-44, 108, 165, 319)     0.999736    -7.542466     3.348511   \n",
       "221    354   (877, 65, 1013, 201)     0.999999    -8.295115     2.623810   \n",
       "222    354   (611, 260, 796, 444)     0.999990    12.288671     2.911372   \n",
       "223    354   (343, 120, 478, 255)     0.999971    -8.364806     2.885690   \n",
       "\n",
       "    sex_label  age_label  \n",
       "0           m  33.838105  \n",
       "1           f  26.657391  \n",
       "2           f  24.961309  \n",
       "3           m  24.118176  \n",
       "4           f  18.102851  \n",
       "..        ...        ...  \n",
       "219         f  23.688979  \n",
       "220         f  28.485112  \n",
       "221         f  21.238101  \n",
       "222         m  24.113717  \n",
       "223         f  23.856900  \n",
       "\n",
       "[224 rows x 7 columns]"
      ]
     },
     "execution_count": 4,
     "metadata": {},
     "output_type": "execute_result"
    }
   ],
   "source": [
    "ret"
   ]
  },
  {
   "cell_type": "code",
   "execution_count": 5,
   "id": "2f2772c2",
   "metadata": {},
   "outputs": [],
   "source": [
    "dst = './mysubtitle.ass'\n",
    "ass_subtitle_export(vid_src, ret, dst, analysis_fps)"
   ]
  },
  {
   "cell_type": "code",
   "execution_count": 6,
   "id": "3c3fc3f6",
   "metadata": {},
   "outputs": [
    {
     "name": "stderr",
     "output_type": "stream",
     "text": [
      "[000055cad6f81670] main libvlc: Running vlc with the default interface. Use 'cvlc' to use vlc without interface.\n",
      "[ass] Shaper: FriBidi 0.19.7 (SIMPLE) HarfBuzz-ng 2.6.4 (COMPLEX)\n",
      "[ass] Using font provider fontconfig\n",
      "libva info: VA-API version 1.7.0\n",
      "libva info: Trying to open /usr/lib/x86_64-linux-gnu/dri/nvidia_drv_video.so\n",
      "libva info: va_openDriver() returns -1\n",
      "[00007f1bf0003880] glconv_vaapi_x11 gl error: vaInitialize: unknown libva error\n",
      "libva info: VA-API version 1.7.0\n",
      "libva info: Trying to open /usr/lib/x86_64-linux-gnu/dri/iHD_drv_video.so\n",
      "libva info: Found init function __vaDriverInit_1_7\n",
      "libva info: va_openDriver() returns 0\n",
      "[00007f1bf8060a30] main video output error: video output creation failed\n",
      "[00007f1c0cc16c90] main decoder error: failed to create video output\n",
      "[00007f1c0cc16c90] avcodec decoder: Using NVIDIA VDPAU Driver Shared Library  470.74  Mon Sep 13 22:58:37 UTC 2021 for hardware decoding\n",
      "[ass] fontselect: (DejaVu Sans, 400, 0) -> /usr/share/fonts/truetype/dejavu/DejaVuSans.ttf, 0, DejaVuSans\n",
      "[ass] fontselect: (Arial, 400, 0) -> /usr/share/fonts/truetype/liberation/LiberationSans-Regular.ttf, 0, LiberationSans\n",
      "QObject::~QObject: Timers cannot be stopped from another thread\n"
     ]
    },
    {
     "data": {
      "text/plain": [
       "0"
      ]
     },
     "execution_count": 6,
     "metadata": {},
     "output_type": "execute_result"
    }
   ],
   "source": [
    "os.system('vlc %s --sub-file %s' % (vid_src, dst))"
   ]
  },
  {
   "cell_type": "code",
   "execution_count": null,
   "id": "1bc56e92",
   "metadata": {},
   "outputs": [],
   "source": []
  }
 ],
 "metadata": {
  "kernelspec": {
   "display_name": "Python 3 (ipykernel)",
   "language": "python",
   "name": "python3"
  },
  "language_info": {
   "codemirror_mode": {
    "name": "ipython",
    "version": 3
   },
   "file_extension": ".py",
   "mimetype": "text/x-python",
   "name": "python",
   "nbconvert_exporter": "python",
   "pygments_lexer": "ipython3",
   "version": "3.8.10"
  }
 },
 "nbformat": 4,
 "nbformat_minor": 5
}
